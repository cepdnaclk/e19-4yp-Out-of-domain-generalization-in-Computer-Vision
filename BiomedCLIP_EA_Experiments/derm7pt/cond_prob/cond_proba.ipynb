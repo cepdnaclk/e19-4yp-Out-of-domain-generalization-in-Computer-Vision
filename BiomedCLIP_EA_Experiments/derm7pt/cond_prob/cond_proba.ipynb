{
 "cells": [
  {
   "cell_type": "code",
   "execution_count": 4,
   "id": "3bf0e7d9",
   "metadata": {},
   "outputs": [
    {
     "name": "stdout",
     "output_type": "stream",
     "text": [
      "pigment_network: ['absent' 'typical' 'atypical']\n",
      "streaks: ['absent' 'irregular' 'regular']\n",
      "pigmentation: ['absent' 'diffuse irregular' 'localized irregular' 'diffuse regular'\n",
      " 'localized regular']\n",
      "regression_structures: ['absent' 'blue areas' 'combinations' 'white areas']\n",
      "dots_and_globules: ['absent' 'irregular' 'regular']\n",
      "vascular_structures: ['arborizing' 'absent' 'within regression' 'hairpin' 'dotted' 'comma'\n",
      " 'linear irregular' 'wreath']\n",
      "blue_whitish_veil: ['absent' 'present']\n"
     ]
    }
   ],
   "source": [
    "import pandas as pd\n",
    "meta = pd.read_csv('meta/meta.csv')\n",
    "considered_columns = ['pigment_network', 'streaks', 'pigmentation', 'regression_structures', 'dots_and_globules', 'vascular_structures', 'blue_whitish_veil']\n",
    "for col in considered_columns:\n",
    "    print(f\"{col}: {meta[col].unique()}\")"
   ]
  },
  {
   "cell_type": "code",
   "execution_count": 19,
   "id": "eed7a3b6",
   "metadata": {},
   "outputs": [
    {
     "name": "stdout",
     "output_type": "stream",
     "text": [
      "P(melanoma | pigment_network=atypical): 0.5806451612903226\n",
      "P(melanoma | streaks=irregular): 0.5897435897435898\n",
      "P(melanoma | pigmentation=diffuse irregular): 0.47596153846153844\n",
      "P(melanoma | pigmentation=localized irregular): 0.375\n",
      "P(melanoma | regression_structures=blue areas): 0.2777777777777778\n",
      "P(melanoma | regression_structures=white areas): 0.4482758620689655\n",
      "P(melanoma | regression_structures=combinations): 0.5903614457831325\n",
      "P(melanoma | dots_and_globules=irregular): 0.4742857142857143\n",
      "P(melanoma | blue_whitish_veil=present): 0.5906040268456376\n",
      "P(melanoma | vascular_structures=dotted): 0.475\n",
      "P(melanoma | vascular_structures=linear irregular): 0.9230769230769231\n"
     ]
    }
   ],
   "source": [
    "import pandas as pd\n",
    "\n",
    "# Load the meta CSV file\n",
    "meta = pd.read_csv('meta/meta.csv')\n",
    "\n",
    "# Assume train_indices and test_indices are defined in other cells\n",
    "# Combine train and test indices\n",
    "# Load train and test indices from CSV files\n",
    "train_indices = pd.read_csv('meta/train_indexes.csv').squeeze(\"columns\").tolist()\n",
    "test_indices = pd.read_csv('meta/test_indexes.csv').squeeze(\"columns\").tolist()\n",
    "selected_indices = train_indices + test_indices\n",
    "# print(f\"Total selected indices: {(selected_indices)}\")\n",
    "# Filter rows corresponding to train and test indices\n",
    "selected_meta = meta.loc[selected_indices]\n",
    "\n",
    "# List of medical concepts\n",
    "concepts = {\n",
    "    'pigment_network': ['atypical'],\n",
    "    'streaks': ['irregular'],\n",
    "    'pigmentation': ['diffuse irregular', 'localized irregular'],\n",
    "    'regression_structures': ['blue areas', 'white areas', 'combinations'],\n",
    "    'dots_and_globules': ['irregular'],\n",
    "    'blue_whitish_veil': ['present'],\n",
    "    'vascular_structures': ['dotted', 'linear irregular']\n",
    "}\n",
    "\n",
    "# Ensure 'diagnosis' is string type for substring search\n",
    "selected_meta['diagnosis'] = selected_meta['diagnosis'].astype(str)\n",
    "\n",
    "# Prepare results dictionary\n",
    "proba_results = {}\n",
    "\n",
    "# Prepare results dictionary\n",
    "proba_results = {}\n",
    "\n",
    "# For each concept and its possible values\n",
    "for concept, values in concepts.items():\n",
    "    for value in values:\n",
    "        subset = selected_meta[selected_meta[concept] == value]\n",
    "        if len(subset) == 0:\n",
    "            print(f\"No samples found for {concept}={value}. Skipping.\")\n",
    "            proba = None\n",
    "        else:\n",
    "            melanoma_count = subset['diagnosis'].str.contains('melanoma', case=False).sum()\n",
    "            proba = melanoma_count / len(subset)\n",
    "        proba_results[f\"{concept}={value}\"] = proba\n",
    "\n",
    "# Display results\n",
    "for k, v in proba_results.items():\n",
    "    print(f\"P(melanoma | {k}): {v}\")"
   ]
  }
 ],
 "metadata": {
  "kernelspec": {
   "display_name": "defaultenv",
   "language": "python",
   "name": "python3"
  },
  "language_info": {
   "codemirror_mode": {
    "name": "ipython",
    "version": 3
   },
   "file_extension": ".py",
   "mimetype": "text/x-python",
   "name": "python",
   "nbconvert_exporter": "python",
   "pygments_lexer": "ipython3",
   "version": "3.12.8"
  }
 },
 "nbformat": 4,
 "nbformat_minor": 5
}
