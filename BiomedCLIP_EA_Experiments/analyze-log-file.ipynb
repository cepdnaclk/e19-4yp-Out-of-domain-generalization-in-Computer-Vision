{
 "cells": [
  {
   "cell_type": "markdown",
   "id": "ee6e2942",
   "metadata": {},
   "source": [
    "# Visualizing the training accuracy"
   ]
  },
  {
   "cell_type": "code",
   "execution_count": 1,
   "id": "4bcac1f5",
   "metadata": {},
   "outputs": [],
   "source": [
    "# load the log file\n",
    "import sys\n",
    "import os\n",
    "\n",
    "def load_log_file(file_path):\n",
    "    if not os.path.exists(file_path):\n",
    "        print(f\"Error: The file {file_path} does not exist.\")\n",
    "        return None\n",
    "\n",
    "    try:\n",
    "        with open(file_path, 'r') as file:\n",
    "            log_data = file.readlines()\n",
    "        return log_data\n",
    "    except Exception as e:\n",
    "        print(f\"Error reading the file {file_path}: {e}\")\n",
    "        return None\n",
    "\n",
    "log = load_log_file(\"5000.out\")"
   ]
  },
  {
   "cell_type": "code",
   "execution_count": null,
   "metadata": {},
   "outputs": [],
   "source": [
    "import re\n",
    "from typing import List, Tuple\n",
    "import matplotlib.pyplot as plt\n",
    "\n",
    "def extract_accuracy_for_iterations(log_content: str) -> List[float]:\n",
    "    \"\"\"\n",
    "    Extracts the mean accuracy for each iteration from a log file's content.\n",
    "\n",
    "    Args:\n",
    "        log_content: A string containing the full log file content.\n",
    "\n",
    "    Returns:\n",
    "        A list of float values, where each float represents the mean accuracy\n",
    "        of an iteration. The order of accuracies in the list corresponds to\n",
    "        the order of iterations in the log.\n",
    "    \"\"\"\n",
    "    # Regex to find lines like \"Iteration X: mean accuracy of top 10: Y.\"\n",
    "    # It captures the floating-point number after \"mean accuracy of top 10: \"\n",
    "    accuracy_pattern = r\"Iteration \\d+: mean accuracy of top 10: (\\d+\\.\\d+)\\.\"\n",
    "\n",
    "    # Find all matches of the pattern in the log content\n",
    "    matches = re.findall(accuracy_pattern, log_content)\n",
    "\n",
    "    # Convert the extracted string accuracies to float\n",
    "    accuracies = [float(acc) for acc in matches]\n",
    "\n",
    "    return accuracies\n",
    "\n",
    "def plot_accuracy_over_iterations(accuracies: List[float]):\n",
    "    \"\"\"\n",
    "    Plots the mean accuracy values over iterations.\n",
    "\n",
    "    Args:\n",
    "        accuracies: A list of float values representing the accuracy for each iteration.\n",
    "    \"\"\"\n",
    "    if not accuracies:\n",
    "        print(\"No accuracy data to plot.\")\n",
    "        return\n",
    "\n",
    "    iterations = range(1, len(accuracies) + 1)\n",
    "\n",
    "    plt.figure(figsize=(10, 6))\n",
    "    plt.plot(iterations, accuracies, marker='o', linestyle='-', color='skyblue')\n",
    "    plt.title('Mean Accuracy Over Iterations')\n",
    "    plt.xlabel('Iteration')\n",
    "    plt.ylabel('Mean Accuracy')\n",
    "    plt.grid(True)\n",
    "    plt.xticks(iterations) # Ensure all iteration numbers are shown on x-axis\n",
    "    plt.ylim(min(accuracies) * 0.95, max(accuracies) * 1.05) # Add some padding to y-axis\n",
    "    plt.show()\n"
   ]
  }
 ],
 "metadata": {
  "kernelspec": {
   "display_name": "ml_env",
   "language": "python",
   "name": "python3"
  },
  "language_info": {
   "codemirror_mode": {
    "name": "ipython",
    "version": 3
   },
   "file_extension": ".py",
   "mimetype": "text/x-python",
   "name": "python",
   "nbconvert_exporter": "python",
   "pygments_lexer": "ipython3",
   "version": "3.11.9"
  }
 },
 "nbformat": 4,
 "nbformat_minor": 5
}
