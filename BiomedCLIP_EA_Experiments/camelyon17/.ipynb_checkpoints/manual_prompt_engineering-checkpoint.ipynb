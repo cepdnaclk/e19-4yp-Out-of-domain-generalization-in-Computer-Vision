{
 "cells": [
  {
   "cell_type": "code",
   "execution_count": 3,
   "id": "c0ae536b-4fe2-496e-9b01-bf643be76b6e",
   "metadata": {},
   "outputs": [
    {
     "name": "stdout",
     "output_type": "stream",
     "text": [
      "Model, preprocess, and tokenizer loaded successfully.\n",
      "Loading cached features for center 0...\n",
      "Loading cached features for center 1...\n",
      "Loading cached features for center 2...\n",
      "Center embeddings extracted successfully.\n"
     ]
    }
   ],
   "source": [
    "import util\n",
    "import torch\n",
    "from typing import List\n",
    "import numpy as np\n",
    "\n",
    "model, preprocess, tokenizer = util.load_clip_model()\n",
    "print(\"Model, preprocess, and tokenizer loaded successfully.\")\n",
    "\n",
    "# 2. load dataset\n",
    "# 1) Unpack—annotate what extract_center_embeddings returns\n",
    "centers_features: List[np.ndarray]\n",
    "centers_labels:   List[np.ndarray]\n",
    "centers_features, centers_labels = util.extract_center_embeddings(\n",
    "    model=model,\n",
    "    preprocess=preprocess,\n",
    "    num_centers=3,  # trained only on center 0\n",
    ")\n",
    "\n",
    "# 2) Concatenate and convert—annotate the resulting tensors\n",
    "all_feats: torch.Tensor = torch.from_numpy(\n",
    "    np.concatenate(centers_features, axis=0)\n",
    ").float()   # shape: (N_total, D), dtype=torch.float32\n",
    "\n",
    "all_labels: torch.Tensor = torch.from_numpy(\n",
    "    np.concatenate(centers_labels, axis=0)\n",
    ").long()    # shape: (N_total,), dtype=torch.int64\n",
    "\n",
    "print(\"Center embeddings extracted successfully.\")"
   ]
  },
  {
   "cell_type": "code",
   "execution_count": 10,
   "id": "c8c1b2db-4d4b-4f30-b27c-a3312b40036c",
   "metadata": {},
   "outputs": [
    {
     "data": {
      "text/plain": [
       "{'accuracy': 0.4816359669782086,\n",
       " 'auc': np.float64(0.4675660971461726),\n",
       " 'cm': array([[46476, 34195],\n",
       "        [49442, 31235]]),\n",
       " 'report': '              precision    recall  f1-score   support\\n\\n           0     0.4845    0.5761    0.5264     80671\\n           1     0.4774    0.3872    0.4276     80677\\n\\n    accuracy                         0.4816    161348\\n   macro avg     0.4810    0.4816    0.4770    161348\\nweighted avg     0.4810    0.4816    0.4770    161348\\n',\n",
       " 'inverted_bce': 0.4286288829861025}"
      ]
     },
     "execution_count": 10,
     "metadata": {},
     "output_type": "execute_result"
    }
   ],
   "source": [
    "negative_prompt = 'kaushitha'\n",
    "positive_prompt = 'mansitha'\n",
    "results = util.evaluate_prompt_pair(\n",
    "    negative_prompt, positive_prompt, all_feats, all_labels, model, tokenizer)\n",
    "results"
   ]
  }
 ],
 "metadata": {
  "kernelspec": {
   "display_name": "Python 3 (ipykernel)",
   "language": "python",
   "name": "python3"
  },
  "language_info": {
   "codemirror_mode": {
    "name": "ipython",
    "version": 3
   },
   "file_extension": ".py",
   "mimetype": "text/x-python",
   "name": "python",
   "nbconvert_exporter": "python",
   "pygments_lexer": "ipython3",
   "version": "3.10.16"
  }
 },
 "nbformat": 4,
 "nbformat_minor": 5
}
