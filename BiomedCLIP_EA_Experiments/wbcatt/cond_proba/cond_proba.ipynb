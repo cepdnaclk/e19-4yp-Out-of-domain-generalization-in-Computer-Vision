{
 "cells": [
  {
   "cell_type": "code",
   "execution_count": 2,
   "id": "3bf0e7d9",
   "metadata": {},
   "outputs": [
    {
     "name": "stdout",
     "output_type": "stream",
     "text": [
      "label: ['Neutrophil' 'Eosinophil' 'Basophil' 'Lymphocyte' 'Monocyte']\n",
      "cell_size: ['big' 'small']\n",
      "cell_shape: ['round' 'irregular']\n",
      "nucleus_shape: ['unsegmented-band' 'unsegmented-round' 'segmented-multilobed'\n",
      " 'segmented-bilobed' 'irregular' 'unsegmented-indented']\n",
      "nuclear_cytoplasmic_ratio: ['low' 'high']\n",
      "chromatin_density: ['densely' 'loosely']\n",
      "cytoplasm_vacuole: ['no' 'yes']\n",
      "cytoplasm_texture: ['clear' 'frosted']\n",
      "cytoplasm_colour: ['light blue' 'blue' 'purple blue']\n",
      "granule_type: ['small' 'round' 'coarse' 'nil']\n",
      "granule_colour: ['pink' 'purple' 'red' 'nil']\n",
      "granularity: ['yes' 'no']\n"
     ]
    }
   ],
   "source": [
    "import pandas as pd\n",
    "\n",
    "train = pd.read_csv('pbc_attr_v1_train.csv')\n",
    "test = pd.read_csv('pbc_attr_v1_test.csv')\n",
    "# combine these two datasets\n",
    "meta = pd.concat([train, test], ignore_index=True)\n",
    "\n",
    "\n",
    "considered_columns = ['label','cell_size','cell_shape','nucleus_shape','nuclear_cytoplasmic_ratio','chromatin_density','cytoplasm_vacuole','cytoplasm_texture','cytoplasm_colour','granule_type','granule_colour','granularity']\n",
    "\n",
    "for col in considered_columns:\n",
    "    print(f\"{col}: {meta[col].unique()}\")"
   ]
  },
  {
   "cell_type": "code",
   "execution_count": 6,
   "id": "eed7a3b6",
   "metadata": {},
   "outputs": [
    {
     "name": "stdout",
     "output_type": "stream",
     "text": [
      "P(Neutrophil | cell_size=big): 0.36\n",
      "P(Neutrophil | cell_size=small): 0.28\n",
      "P(Neutrophil | cell_shape=round): 0.32\n",
      "P(Neutrophil | cell_shape=irregular): 0.32\n",
      "P(Neutrophil | nucleus_shape=unsegmented-band): 0.85\n",
      "P(Neutrophil | nucleus_shape=segmented-multilobed): 0.34\n",
      "P(Neutrophil | nucleus_shape=segmented-bilobed): 0.20\n",
      "P(Neutrophil | nuclear_cytoplasmic_ratio=low): 0.37\n",
      "P(Neutrophil | chromatin_density=densely): 0.35\n",
      "P(Neutrophil | cytoplasm_vacuole=no): 0.34\n",
      "P(Neutrophil | cytoplasm_vacuole=yes): 0.15\n",
      "P(Neutrophil | cytoplasm_texture=clear): 0.40\n",
      "P(Neutrophil | cytoplasm_colour=light blue): 0.43\n",
      "P(Neutrophil | granule_type=small): 1.00\n",
      "P(Neutrophil | granule_colour=pink): 1.00\n",
      "P(Neutrophil | granularity=yes): 0.43\n"
     ]
    }
   ],
   "source": [
    "# Combine train and test datasets\n",
    "meta = pd.concat([train, test], ignore_index=True)\n",
    "\n",
    "# List of columns to consider (medical concepts)\n",
    "considered_columns = ['cell_size','cell_shape','nucleus_shape','nuclear_cytoplasmic_ratio','chromatin_density','cytoplasm_vacuole','cytoplasm_texture','cytoplasm_colour','granule_type','granule_colour','granularity']\n",
    "\n",
    "# Prepare results dictionary\n",
    "proba_results = {}\n",
    "\n",
    "# Get all unique labels\n",
    "label_values = meta['label'].dropna().unique().tolist()\n",
    "\n",
    "# For each medical concept (except label)\n",
    "for concept in considered_columns:\n",
    "    unique_vals = meta[concept].dropna().unique().tolist()\n",
    "    for value in unique_vals:\n",
    "        subset = meta[meta[concept] == value]\n",
    "        total = len(subset)\n",
    "        if total == 0:\n",
    "            print(f\"No samples found for {concept}={value}. Skipping.\")\n",
    "            continue\n",
    "        for label in label_values:\n",
    "            label_count = (subset['label'] == label).sum()\n",
    "            proba = label_count / total\n",
    "            proba_results[f\"P({label} | {concept}={value})\"] = proba\n",
    "\n",
    "# Display results\n",
    "for k, v in proba_results.items():\n",
    "    if 'Neutrophil' in k and v > 0.1:  # Filter to show only Neutrophil related probabilities\n",
    "        print(f\"{k}: {v:.2f}\")"
   ]
  }
 ],
 "metadata": {
  "kernelspec": {
   "display_name": ".venv",
   "language": "python",
   "name": "python3"
  },
  "language_info": {
   "codemirror_mode": {
    "name": "ipython",
    "version": 3
   },
   "file_extension": ".py",
   "mimetype": "text/x-python",
   "name": "python",
   "nbconvert_exporter": "python",
   "pygments_lexer": "ipython3",
   "version": "3.13.7"
  }
 },
 "nbformat": 4,
 "nbformat_minor": 5
}
