{
 "cells": [
  {
   "cell_type": "code",
   "execution_count": 16,
   "id": "cd64794d",
   "metadata": {},
   "outputs": [],
   "source": [
    "import util\n",
    "client = util.LLMClient(provider='gemini')"
   ]
  },
  {
   "cell_type": "code",
   "execution_count": 17,
   "id": "22e00020",
   "metadata": {},
   "outputs": [],
   "source": [
    "BINARY_LABEL = \"Basophil\"\n",
    "# Initial meta prompt for the first iteration\n",
    "other_labels = [label for label in util.CLASSES if label != BINARY_LABEL]\n",
    "other_labels_str = \", \".join(other_labels)\n",
    "MEDICAL_CONCEPTS_MAPPING = {\n",
    "    \"Basophil\": \"Nucleus=Segmented, NC Ratio=Low, Granularity=Yes, Color=Blue/Black (dense)\",\n",
    "    \"Eosinophil\": \"Nucleus=Segmented, NC Ratio=Low, Granularity=Yes, Color=Red\",\n",
    "    \"Lymphocyte\": \"Nucleus=Unsegmented, NC Ratio=High, Granularity=No, Size=Small\",\n",
    "    \"Monocyte\": \"Nucleus=Unsegmented, NC Ratio=Low, Granularity=No\",\n",
    "    \"Neutrophil\": \"Nucleus=Segmented, NC Ratio=Low, Granularity=Yes, Color=Blue\",\n",
    "}\n",
    "\n",
    "\n",
    "meta_init_prompt = f\"\"\"Give 50 distinct textual descriptions of pairs of visual discriminative features to identify whether the peripheral blood cell is a {BINARY_LABEL} or not. \n",
    "These are the following features an expert would look for: Cell Size, Cell Shape, Nucleus Shape, Nuclear-Cytoplasmic Ratio, Chromatin-Density, Cytoplasm-Vacuole, Cytoplasm-Texture, Cytoplasm-Color, Granule-Type, Granule-Color, Granularity\n",
    "{MEDICAL_CONCEPTS_MAPPING[BINARY_LABEL]}\n",
    "Only provide the output as Python code in the following format: prompts = list[tuple[negative: str, positive: str]]. Let's think step-by-step\"\"\""
   ]
  },
  {
   "cell_type": "code",
   "execution_count": 18,
   "id": "cdcf428d",
   "metadata": {},
   "outputs": [
    {
     "name": "stdout",
     "output_type": "stream",
     "text": [
      "```python\n",
      "prompts = [\n",
      "    (\"Cells are typically small, less than 12 micrometers.\", \"Cells are generally larger, often exceeding 12 micrometers.\"),\n",
      "    (\"The cell appears round or oval with a regular outline.\", \"The cell may exhibit an irregular or slightly distorted shape.\"),\n",
      "    (\"The nucleus is uniformly round and clearly defined.\", \"The nucleus is often obscured by granules or appears lobulated.\"),\n",
      "    (\"The nucleus occupies a large portion of the cell.\", \"The nucleus occupies a relatively small portion of the cell.\"),\n",
      "    (\"Chromatin appears finely dispersed and evenly distributed.\", \"Chromatin appears dense and condensed, often obscuring detail.\"),\n",
      "    (\"Cytoplasm lacks visible vacuoles.\", \"Cytoplasm contains prominent, often numerous, vacuoles.\"),\n",
      "    (\"Cytoplasm appears smooth and homogenous.\", \"Cytoplasm appears granular and textured.\"),\n",
      "    (\"Cytoplasm is pale pink or reddish.\", \"Cytoplasm is typically a bluish-grey or slightly lavender hue.\"),\n",
      "    (\"Granules are absent or very few in number.\", \"Granules are abundant and a defining characteristic of the cell.\"),\n",
      "    (\"Granules are eosinophilic (pink/red).\", \"Granules are basophilic (dark blue/purple).\"),\n",
      "    (\"Granularity is minimal or absent.\", \"Granularity is prominent and easily visible.\"),\n",
      "    (\"The cell is small with a high nuclear-cytoplasmic ratio.\", \"The cell is larger with a low nuclear-cytoplasmic ratio.\"),\n",
      "    (\"The nucleus is clearly visible and takes up most of the cell's area.\", \"The nucleus is partially obscured by numerous granules.\"),\n",
      "    (\"Chromatin is light and delicate.\", \"Chromatin is dark and clumped.\"),\n",
      "    (\"Cytoplasm is clear and transparent.\", \"Cytoplasm is filled with dark-staining granules.\"),\n",
      "    (\"Cytoplasm appears uniform in texture.\", \"Cytoplasm appears uneven due to granule distribution.\"),\n",
      "    (\"Cytoplasm is a light shade of pink.\", \"Cytoplasm is a deep blue or purple color.\"),\n",
      "    (\"Granules are small and indistinct.\", \"Granules are large and easily identifiable.\"),\n",
      "    (\"Granules stain with eosin.\", \"Granules stain with basic dyes like methylene blue.\"),\n",
      "    (\"The cell shows little to no granular content.\", \"The cell is densely packed with granules.\"),\n",
      "    (\"The cell's shape is consistently spherical.\", \"The cell's shape is often irregular and lobed.\"),\n",
      "    (\"The nucleus is centrally located and round.\", \"The nucleus is often obscured and may appear segmented.\"),\n",
      "    (\"The nuclear-cytoplasmic ratio is greater than 1:1.\", \"The nuclear-cytoplasmic ratio is less than 1:1.\"),\n",
      "    (\"Chromatin is evenly distributed throughout the nucleus.\", \"Chromatin is concentrated in dense clumps.\"),\n",
      "    (\"Cytoplasm is free of any noticeable inclusions.\", \"Cytoplasm contains numerous dark-staining granules.\"),\n",
      "    (\"Cytoplasm has a smooth, glassy appearance.\", \"Cytoplasm has a rough, granular appearance.\"),\n",
      "    (\"Cytoplasm is a pale, almost transparent color.\", \"Cytoplasm is a deep, rich blue-purple color.\"),\n",
      "    (\"Granules are sparse and evenly distributed.\", \"Granules are densely packed and often obscure the nucleus.\"),\n",
      "    (\"Granules are small and light-colored.\", \"Granules are large and intensely colored.\"),\n",
      "    (\"The cell is similar in size to a lymphocyte.\", \"The cell is larger than a lymphocyte but smaller than a monocyte.\"),\n",
      "    (\"The cell has a simple, rounded morphology.\", \"The cell has a complex morphology with abundant granules.\"),\n",
      "    (\"The nucleus is prominent and easily identified.\", \"The nucleus is difficult to identify due to granule coverage.\"),\n",
      "    (\"Chromatin is fine and loosely arranged.\", \"Chromatin is coarse and tightly packed.\"),\n",
      "    (\"Cytoplasm is relatively clear and lacks significant staining.\", \"Cytoplasm is intensely stained due to the presence of granules.\"),\n",
      "    (\"Cytoplasm is smooth and lacks texture.\", \"Cytoplasm is granular and textured.\"),\n",
      "    (\"Cytoplasm is a light pinkish hue.\", \"Cytoplasm is a dark bluish-purple hue.\"),\n",
      "    (\"Granules are few and far between.\", \"Granules are numerous and densely packed.\"),\n",
      "    (\"Granules are weakly staining.\", \"Granules are strongly staining.\"),\n",
      "    (\"The cell appears relatively empty.\", \"The cell appears filled with granular material.\"),\n",
      "    (\"The cell is small and has a high nucleus-to-cytoplasm ratio.\", \"The cell is large and has a low nucleus-to-cytoplasm ratio.\"),\n",
      "    (\"The nucleus is round and has a smooth outline.\", \"The nucleus is segmented and may have an irregular outline.\"),\n",
      "    (\"Chromatin is dispersed and delicate.\", \"Chromatin is condensed and coarse.\"),\n",
      "    (\"Cytoplasm is clear and lacks granules.\", \"Cytoplasm is filled with dark blue/black granules.\"),\n",
      "    (\"Cytoplasm is smooth and homogenous in appearance.\", \"Cytoplasm is granular and heterogeneous in appearance.\"),\n",
      "    (\"Cytoplasm is a pale pink color.\", \"Cytoplasm is a deep blue or purple color.\"),\n",
      "    (\"Granules are small and eosinophilic.\", \"Granules are large and basophilic.\"),\n",
      "    (\"Granularity is absent or minimal.\", \"Granularity is prominent and abundant.\"),\n",
      "    (\"The cell is similar in size to a neutrophil.\", \"The cell is larger than a neutrophil.\"),\n",
      "    (\"The cell has a regular, symmetrical shape.\", \"The cell has an irregular, asymmetrical shape.\"),\n",
      "    (\"The nucleus is centrally located and clearly visible.\", \"The nucleus is often obscured by granules and difficult to visualize.\"),\n",
      "    (\"Chromatin is finely granular and evenly distributed.\", \"Chromatin is densely clumped and unevenly distributed.\"),\n",
      "    (\"Cytoplasm is clear and lacks any visible inclusions.\", \"Cytoplasm is filled with numerous dark-staining granules.\"),\n",
      "    (\"Cytoplasm is smooth and lacks texture.\", \"Cytoplasm is granular and textured.\"),\n",
      "    (\"Cytoplasm is a pale pink or reddish color.\", \"Cytoplasm is a deep blue or purple color.\"),\n",
      "    (\"Granules are small and indistinct.\", \"Granules are large and easily identifiable.\"),\n",
      "    (\"Granules stain with acidic dyes.\", \"Granules stain with basic dyes.\")\n",
      "]\n",
      "```\n"
     ]
    }
   ],
   "source": [
    "print(client.get_llm_response(meta_init_prompt))"
   ]
  }
 ],
 "metadata": {
  "kernelspec": {
   "display_name": "ml_env",
   "language": "python",
   "name": "python3"
  },
  "language_info": {
   "codemirror_mode": {
    "name": "ipython",
    "version": 3
   },
   "file_extension": ".py",
   "mimetype": "text/x-python",
   "name": "python",
   "nbconvert_exporter": "python",
   "pygments_lexer": "ipython3",
   "version": "3.11.9"
  }
 },
 "nbformat": 4,
 "nbformat_minor": 5
}
