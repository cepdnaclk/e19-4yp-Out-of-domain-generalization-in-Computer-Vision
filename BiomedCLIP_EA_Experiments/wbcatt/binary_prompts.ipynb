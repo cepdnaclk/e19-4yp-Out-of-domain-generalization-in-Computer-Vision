{
 "cells": [
  {
   "cell_type": "code",
   "execution_count": 6,
   "id": "cd64794d",
   "metadata": {},
   "outputs": [],
   "source": [
    "import util\n",
    "client = util.LLMClient(provider='gemini')"
   ]
  },
  {
   "cell_type": "code",
   "execution_count": 11,
   "id": "22e00020",
   "metadata": {},
   "outputs": [],
   "source": [
    "BINARY_LABEL = \"Basophil\"\n",
    "# Initial meta prompt for the first iteration\n",
    "other_labels = [label for label in util.CLASSES if label != BINARY_LABEL]\n",
    "other_labels_str = \", \".join(other_labels)\n",
    "MEDICAL_CONCEPTS_MAPPING = {\n",
    "    \"Basophil\": \"Nucleus=Segmented, NC Ratio=Low, Granularity=Yes, Color=Blue/Black (dense)\",\n",
    "    \"Eosinophil\": \"Nucleus=Segmented, NC Ratio=Low, Granularity=Yes, Color=Red\",\n",
    "    \"Lymphocyte\": \"Nucleus=Unsegmented, NC Ratio=High, Granularity=No, Size=Small\",\n",
    "    \"Monocyte\": \"Nucleus=Unsegmented, NC Ratio=Low, Granularity=No\",\n",
    "    \"Neutrophil\": \"Nucleus=Segmented, NC Ratio=Low, Granularity=Yes, Color=Blue\",\n",
    "}\n",
    "\n",
    "\n",
    "meta_init_prompt = f\"\"\"Give 50 distinct textual descriptions of pairs of visual discriminative features to identify whether the peripheral blood cell is a {BINARY_LABEL} or not. Other cell types include {other_labels_str}. \n",
    "These are the following features an expert would look for: Cell Size, Cell Shape, Nucleus Shape, Nuclear-Cytoplasmic Ratio, Chromatin-Density, Cytoplasm-Vacuole, Cytoplasm-Texture, Cytoplasm-Color, Granule-Type, Granule-Color, Granularity\n",
    "{MEDICAL_CONCEPTS_MAPPING[BINARY_LABEL]}\n",
    "The negative description should describe features common to all other cell types of {other_labels_str}.\n",
    "The positive description should describe features specific to the {BINARY_LABEL}.\n",
    "The negative, positive pairs should be discriminative.\n",
    "Only provide the output as Python code in the following format: prompts = list[tuple[negative: str, positive: str]]. Let's think step-by-step\"\"\""
   ]
  },
  {
   "cell_type": "code",
   "execution_count": 12,
   "id": "cdcf428d",
   "metadata": {},
   "outputs": [
    {
     "name": "stdout",
     "output_type": "stream",
     "text": [
      "```python\n",
      "prompts = [\n",
      "    (\"Cell size is typically 10-12 μm.\", \"Cell size is often larger, exceeding 12 μm.\"),\n",
      "    (\"Cell shape is generally round or slightly irregular.\", \"Cell shape is frequently oval or kidney-bean shaped.\"),\n",
      "    (\"Nucleus is often round or oval with a smooth outline.\", \"Nucleus is frequently obscured by dense granules, appearing irregular or 'S' shaped.\"),\n",
      "    (\"Nuclear-cytoplasmic ratio is relatively high.\", \"Nuclear-cytoplasmic ratio is very low, with granules dominating the cell volume.\"),\n",
      "    (\"Chromatin is evenly distributed and moderately dense.\", \"Chromatin is often condensed and difficult to visualize due to granule coverage.\"),\n",
      "    (\"Cytoplasm lacks prominent vacuoles.\", \"Cytoplasm is filled with numerous, large, dark granules, obscuring any potential vacuoles.\"),\n",
      "    (\"Cytoplasm texture is generally homogenous or slightly granular.\", \"Cytoplasm texture is intensely granular, almost completely filled with granules.\"),\n",
      "    (\"Cytoplasm color is typically pale blue or pinkish.\", \"Cytoplasm color is often obscured by the dark granules, but underlying color is typically a muted blue.\"),\n",
      "    (\"Granules are absent or small and evenly distributed.\", \"Granules are large, numerous, and intensely basophilic (dark blue/purple).\"),\n",
      "    (\"Granule color is eosinophilic (red/orange) or neutral.\", \"Granule color is deep blue to purple-black, often masking the cytoplasm.\"),\n",
      "    (\"Granularity is fine or moderate.\", \"Granularity is coarse and very prominent, often completely filling the cytoplasm.\"),\n",
      "    (\"Nucleus is clearly visible and occupies a significant portion of the cell.\", \"Nucleus is often difficult to identify due to the dense packing of granules.\"),\n",
      "    (\"Cytoplasm is relatively clear with visible organelles.\", \"Cytoplasm appears almost entirely composed of granules.\"),\n",
      "    (\"Granules are evenly distributed throughout the cytoplasm.\", \"Granules tend to be densely packed and may obscure the nucleus.\"),\n",
      "    (\"Cell exhibits a moderate amount of cytoplasm.\", \"Cell exhibits a relatively small amount of visible cytoplasm due to abundant granules.\"),\n",
      "    (\"The nucleus is typically spherical or oval.\", \"The nucleus is often bilobed or segmented, but obscured by granules.\"),\n",
      "    (\"Granules are small and uniform in size.\", \"Granules are variable in size, but generally large and prominent.\"),\n",
      "    (\"Cytoplasm stains with neutral dyes.\", \"Cytoplasm stains intensely with basic dyes due to the granules.\"),\n",
      "    (\"The cell has a distinct cytoplasmic border.\", \"The cytoplasmic border is often indistinct due to the dense granule packing.\"),\n",
      "    (\"Granules do not completely obscure the nucleus.\", \"Granules completely or nearly completely obscure the nucleus.\"),\n",
      "    (\"The cell shows a clear demarcation between nucleus and cytoplasm.\", \"The demarcation between nucleus and cytoplasm is often blurred by granules.\"),\n",
      "    (\"Granules are sparse and occupy a small percentage of the cell volume.\", \"Granules are abundant and occupy a large percentage of the cell volume.\"),\n",
      "    (\"The cell has a relatively high nuclear-to-cytoplasmic ratio.\", \"The cell has a very low nuclear-to-cytoplasmic ratio.\"),\n",
      "    (\"Chromatin pattern is fine and delicate.\", \"Chromatin pattern is condensed and difficult to discern.\"),\n",
      "    (\"Cytoplasm is generally transparent.\", \"Cytoplasm is opaque due to the density of granules.\"),\n",
      "    (\"Granules are absent or few in number.\", \"Granules are numerous and densely packed.\"),\n",
      "    (\"The cell is relatively small in size.\", \"The cell is relatively large in size.\"),\n",
      "    (\"The cell shape is regular and symmetrical.\", \"The cell shape is irregular and asymmetrical.\"),\n",
      "    (\"The nucleus is centrally located.\", \"The nucleus is often eccentrically located or obscured.\"),\n",
      "    (\"The cytoplasm is lightly stained.\", \"The cytoplasm is intensely stained by basic dyes.\"),\n",
      "    (\"Granules are round and uniform.\", \"Granules are irregular and variable in shape.\"),\n",
      "    (\"The cell exhibits a normal nuclear-cytoplasmic ratio.\", \"The cell exhibits an abnormally low nuclear-cytoplasmic ratio.\"),\n",
      "    (\"The chromatin is dispersed throughout the nucleus.\", \"The chromatin is condensed and clumped together.\"),\n",
      "    (\"The cytoplasm is clear and free of granules.\", \"The cytoplasm is filled with dark blue/purple granules.\"),\n",
      "    (\"The cell has a smooth cytoplasmic surface.\", \"The cell has a rough, granular cytoplasmic surface.\"),\n",
      "    (\"The cell is easily identifiable by its distinct features.\", \"The cell is often difficult to identify due to the dense granules.\"),\n",
      "    (\"The cell's nucleus is clearly defined.\", \"The cell's nucleus is poorly defined or obscured.\"),\n",
      "    (\"Granules are evenly distributed and do not overlap.\", \"Granules overlap and obscure each other.\"),\n",
      "    (\"The cell has a moderate amount of cytoplasm.\", \"The cell has a minimal amount of visible cytoplasm.\"),\n",
      "    (\"The cell's granules are small and pale.\", \"The cell's granules are large and intensely colored.\"),\n",
      "    (\"The cell's cytoplasm is relatively clear.\", \"The cell's cytoplasm is densely packed with granules.\"),\n",
      "    (\"The cell's nucleus is prominent and easily visible.\", \"The cell's nucleus is hidden by the granules.\"),\n",
      "    (\"The cell's shape is consistent and predictable.\", \"The cell's shape is variable and irregular.\"),\n",
      "    (\"The cell's size is within the normal range.\", \"The cell's size is larger than average.\"),\n",
      "    (\"The cell's chromatin is evenly distributed.\", \"The cell's chromatin is condensed and unevenly distributed.\"),\n",
      "    (\"The cell's granules are few and far between.\", \"The cell's granules are numerous and densely packed.\"),\n",
      "    (\"The cell's cytoplasm is lightly stained with eosin.\", \"The cell's cytoplasm is intensely stained with basic dyes.\"),\n",
      "    (\"The cell's nucleus is round and symmetrical.\", \"The cell's nucleus is irregular and obscured.\"),\n",
      "    (\"The cell's granules are small and uniform in color.\", \"The cell's granules are large and intensely blue/purple.\"),\n",
      "    (\"The cell's cytoplasm is clear and transparent.\", \"The cell's cytoplasm is opaque and filled with granules.\")\n",
      "]\n",
      "```\n"
     ]
    }
   ],
   "source": [
    "print(client.get_llm_response(meta_init_prompt))"
   ]
  }
 ],
 "metadata": {
  "kernelspec": {
   "display_name": "ml_env",
   "language": "python",
   "name": "python3"
  },
  "language_info": {
   "codemirror_mode": {
    "name": "ipython",
    "version": 3
   },
   "file_extension": ".py",
   "mimetype": "text/x-python",
   "name": "python",
   "nbconvert_exporter": "python",
   "pygments_lexer": "ipython3",
   "version": "3.11.9"
  }
 },
 "nbformat": 4,
 "nbformat_minor": 5
}
