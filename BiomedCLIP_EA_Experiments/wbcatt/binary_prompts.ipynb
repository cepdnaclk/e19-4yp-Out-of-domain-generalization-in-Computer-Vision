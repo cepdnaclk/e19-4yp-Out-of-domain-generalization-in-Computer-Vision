{
 "cells": [
  {
   "cell_type": "code",
   "execution_count": 6,
   "id": "cd64794d",
   "metadata": {},
   "outputs": [],
   "source": [
    "import util\n",
    "client = util.LLMClient(provider='gemini')"
   ]
  },
  {
   "cell_type": "code",
   "execution_count": 7,
   "id": "22e00020",
   "metadata": {},
   "outputs": [],
   "source": [
    "BINARY_LABEL = \"Basophil\"\n",
    "# Initial meta prompt for the first iteration\n",
    "other_labels = [label for label in util.CLASSES if label != BINARY_LABEL]\n",
    "other_labels_str = \", \".join(other_labels)\n",
    "MEDICAL_CONCEPTS_MAPPING = {\n",
    "    \"Basophil\": \"Nucleus=Segmented, NC Ratio=Low, Granularity=Yes, Color=Blue/Black (dense)\",\n",
    "    \"Eosinophil\": \"Nucleus=Segmented, NC Ratio=Low, Granularity=Yes, Color=Red\",\n",
    "    \"Lymphocyte\": \"Nucleus=Unsegmented, NC Ratio=High, Granularity=No, Size=Small\",\n",
    "    \"Monocyte\": \"Nucleus=Unsegmented, NC Ratio=Low, Granularity=No\",\n",
    "    \"Neutrophil\": \"Nucleus=Segmented, NC Ratio=Low, Granularity=Yes, Color=Blue\",\n",
    "}\n",
    "\n",
    "\n",
    "meta_init_prompt = f\"\"\"Give 50 distinct textual descriptions of pairs of visual discriminative features to identify whether the peripheral blood cell is a {BINARY_LABEL} or not. Other cell types include {other_labels_str}. \n",
    "These are the following features an expert would look for: Cell Size, Cell Shape, Nucleus Shape, Nuclear-Cytoplasmic Ratio, Chromatin-Density, Cytoplasm-Vacuole, Cytoplasm-Texture, Cytoplasm-Color, Granule-Type, Granule-Color, Granularity\n",
    "{MEDICAL_CONCEPTS_MAPPING[BINARY_LABEL]}\n",
    "Avoid using names of cell types in the descriptions.\n",
    "Only provide the output as Python code in the following format: prompts = list[tuple[negative: str, positive: str]]. Let's think step-by-step\"\"\""
   ]
  },
  {
   "cell_type": "code",
   "execution_count": 8,
   "id": "cdcf428d",
   "metadata": {},
   "outputs": [
    {
     "name": "stdout",
     "output_type": "stream",
     "text": [
      "```python\n",
      "prompts = [\n",
      "    (\"Cells are typically smaller than 15 micrometers in diameter.\", \"Cells are generally larger than 15 micrometers in diameter.\"),\n",
      "    (\"The cell outline is generally round or slightly irregular.\", \"The cell outline is often lobed or segmented.\"),\n",
      "    (\"The nucleus appears as a single, relatively uniform shape.\", \"The nucleus is often obscured by granules.\"),\n",
      "    (\"The nucleus occupies a large proportion of the cell's volume.\", \"The nucleus occupies a relatively small proportion of the cell's volume.\"),\n",
      "    (\"The nuclear material appears finely dispersed.\", \"The nuclear material appears dense and condensed.\"),\n",
      "    (\"The cytoplasm lacks prominent clear areas.\", \"The cytoplasm contains numerous, distinct clear areas.\"),\n",
      "    (\"The cytoplasm appears homogenous and smooth.\", \"The cytoplasm appears granular and textured.\"),\n",
      "    (\"The cytoplasm stains a neutral or pale pink color.\", \"The cytoplasm stains a deep blue or purple color.\"),\n",
      "    (\"Granules are absent or very sparse.\", \"Granules are abundant and evenly distributed.\"),\n",
      "    (\"Granules, if present, are small and lightly stained.\", \"Granules are large and intensely stained.\"),\n",
      "    (\"Granularity is minimal or absent.\", \"Granularity is prominent and easily visible.\"),\n",
      "    (\"The cell is relatively small compared to others in the field.\", \"The cell is among the largest cells observed.\"),\n",
      "    (\"The cell has a regular, circular appearance.\", \"The cell has an irregular, often obscured shape.\"),\n",
      "    (\"The nucleus is clearly visible and well-defined.\", \"The nucleus is partially or completely hidden by granules.\"),\n",
      "    (\"The nucleus takes up more than half of the cell's area.\", \"The nucleus takes up less than half of the cell's area.\"),\n",
      "    (\"The chromatin within the nucleus is loosely arranged.\", \"The chromatin within the nucleus is tightly packed.\"),\n",
      "    (\"The cytoplasm appears clear or slightly granular.\", \"The cytoplasm is filled with dark-staining granules.\"),\n",
      "    (\"The cytoplasm has a smooth, consistent texture.\", \"The cytoplasm has a rough, uneven texture.\"),\n",
      "    (\"The cytoplasm stains a pale pink or reddish hue.\", \"The cytoplasm stains a deep violet or blue-black hue.\"),\n",
      "    (\"Granules are difficult to distinguish from the cytoplasm.\", \"Granules stand out clearly against the cytoplasm.\"),\n",
      "    (\"Granules are evenly dispersed throughout the cytoplasm.\", \"Granules are clustered or unevenly distributed.\"),\n",
      "    (\"The cell appears relatively clear and transparent.\", \"The cell appears densely stained and opaque.\"),\n",
      "    (\"The cell's shape is consistently round.\", \"The cell's shape is variable and often distorted.\"),\n",
      "    (\"The nucleus is a single, distinct lobe.\", \"The nucleus is segmented into multiple lobes.\"),\n",
      "    (\"The ratio of nuclear area to cytoplasmic area is high.\", \"The ratio of nuclear area to cytoplasmic area is low.\"),\n",
      "    (\"The nuclear chromatin is finely granular.\", \"The nuclear chromatin is coarsely granular.\"),\n",
      "    (\"The cytoplasm lacks visible vacuoles.\", \"The cytoplasm contains numerous visible vacuoles.\"),\n",
      "    (\"The cytoplasm is relatively uniform in color.\", \"The cytoplasm exhibits variations in color intensity.\"),\n",
      "    (\"Granules are small and indistinct.\", \"Granules are large and easily identifiable.\"),\n",
      "    (\"Granules are a light shade of pink or orange.\", \"Granules are a dark shade of blue or purple.\"),\n",
      "    (\"The cell has a low overall granularity.\", \"The cell has a high overall granularity.\"),\n",
      "    (\"The cell is similar in size to a small red blood cell.\", \"The cell is significantly larger than a red blood cell.\"),\n",
      "    (\"The cell's outline is smooth and well-defined.\", \"The cell's outline is irregular and poorly defined.\"),\n",
      "    (\"The nucleus is centrally located within the cell.\", \"The nucleus is often eccentric or obscured.\"),\n",
      "    (\"The nucleus occupies a significant portion of the cell.\", \"The nucleus is relatively small compared to the cytoplasm.\"),\n",
      "    (\"The chromatin appears evenly distributed within the nucleus.\", \"The chromatin appears clumped or unevenly distributed.\"),\n",
      "    (\"The cytoplasm is relatively sparse in granules.\", \"The cytoplasm is densely packed with granules.\"),\n",
      "    (\"The cytoplasm has a smooth, glassy appearance.\", \"The cytoplasm has a rough, granular appearance.\"),\n",
      "    (\"The cytoplasm stains a light, neutral color.\", \"The cytoplasm stains a dark, intense color.\"),\n",
      "    (\"Granules are few and far between.\", \"Granules are numerous and closely packed.\"),\n",
      "    (\"Granules are barely visible under magnification.\", \"Granules are readily visible under magnification.\"),\n",
      "    (\"The cell exhibits minimal granularity.\", \"The cell exhibits pronounced granularity.\"),\n",
      "    (\"The cell is comparable in size to a lymphocyte.\", \"The cell is larger than most lymphocytes.\"),\n",
      "    (\"The cell's shape is consistently spherical.\", \"The cell's shape is often irregular or distorted.\"),\n",
      "    (\"The nucleus is a single, round structure.\", \"The nucleus is segmented and lobed.\"),\n",
      "    (\"The nuclear-cytoplasmic ratio is greater than 1:1.\", \"The nuclear-cytoplasmic ratio is less than 1:1.\"),\n",
      "    (\"The chromatin is delicate and finely textured.\", \"The chromatin is dense and coarsely textured.\"),\n",
      "    (\"The cytoplasm lacks prominent inclusions.\", \"The cytoplasm contains numerous prominent inclusions.\"),\n",
      "    (\"The cytoplasm is relatively clear and unstained.\", \"The cytoplasm is deeply stained and opaque.\"),\n",
      "    (\"Granules are small and evenly distributed.\", \"Granules are large and unevenly distributed.\"),\n",
      "    (\"Granules are a pale, washed-out color.\", \"Granules are a dark, intense color.\"),\n",
      "    (\"The cell has a low degree of granularity.\", \"The cell has a high degree of granularity.\")\n",
      "]\n",
      "```\n"
     ]
    }
   ],
   "source": [
    "print(client.get_llm_response(meta_init_prompt))"
   ]
  }
 ],
 "metadata": {
  "kernelspec": {
   "display_name": "ml_env",
   "language": "python",
   "name": "python3"
  },
  "language_info": {
   "codemirror_mode": {
    "name": "ipython",
    "version": 3
   },
   "file_extension": ".py",
   "mimetype": "text/x-python",
   "name": "python",
   "nbconvert_exporter": "python",
   "pygments_lexer": "ipython3",
   "version": "3.11.9"
  }
 },
 "nbformat": 4,
 "nbformat_minor": 5
}
