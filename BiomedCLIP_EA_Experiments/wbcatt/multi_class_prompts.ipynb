{
 "cells": [
  {
   "cell_type": "code",
   "execution_count": 1,
   "id": "360e2ba7",
   "metadata": {},
   "outputs": [
    {
     "name": "stderr",
     "output_type": "stream",
     "text": [
      "c:\\Users\\kaush\\pyenv\\ml_env\\Lib\\site-packages\\transformers\\utils\\generic.py:441: FutureWarning: `torch.utils._pytree._register_pytree_node` is deprecated. Please use `torch.utils._pytree.register_pytree_node` instead.\n",
      "  _torch_pytree._register_pytree_node(\n",
      "c:\\Users\\kaush\\pyenv\\ml_env\\Lib\\site-packages\\transformers\\utils\\generic.py:309: FutureWarning: `torch.utils._pytree._register_pytree_node` is deprecated. Please use `torch.utils._pytree.register_pytree_node` instead.\n",
      "  _torch_pytree._register_pytree_node(\n",
      "c:\\Users\\kaush\\pyenv\\ml_env\\Lib\\site-packages\\timm\\models\\layers\\__init__.py:48: FutureWarning: Importing from timm.models.layers is deprecated, please import via timm.layers\n",
      "  warnings.warn(f\"Importing from {__name__} is deprecated, please import via timm.layers\", FutureWarning)\n"
     ]
    }
   ],
   "source": [
    "import util\n",
    "client = util.LLMClient(provider='gemini')"
   ]
  },
  {
   "cell_type": "code",
   "execution_count": 12,
   "id": "457d86c3",
   "metadata": {},
   "outputs": [
    {
     "name": "stdout",
     "output_type": "stream",
     "text": [
      "```python\n",
      "prompts = [\n",
      "    (\n",
      "        \"Basophils are typically 8-16 μm in size, appearing among the smallest of granulocytes.\",\n",
      "        \"Eosinophils are medium-sized, ranging from 12-17 μm, slightly larger than basophils.\",\n",
      "        \"Lymphocytes are generally small, 7-10 μm, often appearing the smallest in a peripheral smear.\",\n",
      "        \"Monocytes are the largest of the peripheral blood cells, typically 12-18 μm.\",\n",
      "        \"Neutrophils are medium-sized, 10-15 μm, and are generally larger than lymphocytes.\"\n",
      "    ),\n",
      "    (\n",
      "        \"Basophils exhibit a round to irregular cell shape, often obscured by dense granules.\",\n",
      "        \"Eosinophils are generally round, but can be slightly irregular, maintaining a consistent shape.\",\n",
      "        \"Lymphocytes are typically round with a slightly indented nucleus, giving a 'scalloped' appearance.\",\n",
      "        \"Monocytes have an irregular, often kidney-bean or horseshoe-shaped cell outline.\",\n",
      "        \"Neutrophils are round to oval, exhibiting a flexible shape that allows them to navigate capillaries.\"\n",
      "    ),\n",
      "    (\n",
      "        \"Basophil nuclei are often obscured by granules, appearing lobulated but difficult to discern clearly.\",\n",
      "        \"Eosinophil nuclei are typically bilobed, with the lobes connected by a thin chromatin bridge.\",\n",
      "        \"Lymphocyte nuclei are round, dense, and occupy most of the cell volume, often appearing hyperchromatic.\",\n",
      "        \"Monocyte nuclei are typically kidney-bean shaped or horseshoe-shaped, with folded chromatin.\",\n",
      "        \"Neutrophil nuclei are characteristically multi-lobed (typically 3-5 lobes) connected by thin filaments.\"\n",
      "    ),\n",
      "    (\n",
      "        \"Basophils have a low nuclear-cytoplasmic ratio due to abundant cytoplasm filled with granules.\",\n",
      "        \"Eosinophils exhibit a moderate nuclear-cytoplasmic ratio, with a visible nucleus and granular cytoplasm.\",\n",
      "        \"Lymphocytes have a high nuclear-cytoplasmic ratio, with a large nucleus and minimal cytoplasm.\",\n",
      "        \"Monocytes have a moderate to high nuclear-cytoplasmic ratio, with a large nucleus and ample cytoplasm.\",\n",
      "        \"Neutrophils have a moderate nuclear-cytoplasmic ratio, with a segmented nucleus and visible cytoplasm.\"\n",
      "    ),\n",
      "    (\n",
      "        \"Basophil chromatin is often obscured by the dense granules, making assessment difficult.\",\n",
      "        \"Eosinophil chromatin is typically condensed and evenly distributed within the nuclear lobes.\",\n",
      "        \"Lymphocyte chromatin is dense and clumped, appearing dark and concentrated within the nucleus.\",\n",
      "        \"Monocyte chromatin is loosely arranged and often appears 'lacy' or folded.\",\n",
      "        \"Neutrophil chromatin is fine and evenly distributed, connecting the nuclear lobes with thin strands.\"\n",
      "    ),\n",
      "    (\n",
      "        \"Basophils frequently contain large, dark purple cytoplasmic vacuoles filled with granules.\",\n",
      "        \"Eosinophils contain prominent, refractile cytoplasmic granules, but typically lack prominent vacuoles.\",\n",
      "        \"Lymphocytes generally lack visible cytoplasmic vacuoles.\",\n",
      "        \"Monocytes often contain small, clear cytoplasmic vacuoles, sometimes with ingested material.\",\n",
      "        \"Neutrophils may contain fine, pale cytoplasmic vacuoles, but these are less prominent than in monocytes.\"\n",
      "    ),\n",
      "    (\n",
      "        \"Basophil cytoplasm is filled with very coarse, dark granules, often obscuring the cell structure.\",\n",
      "        \"Eosinophil cytoplasm exhibits a granular texture due to the numerous eosinophilic granules.\",\n",
      "        \"Lymphocyte cytoplasm is typically sparse and smooth, with a homogenous texture.\",\n",
      "        \"Monocyte cytoplasm is often described as 'ground glass' or 'hazy' due to its fine texture.\",\n",
      "        \"Neutrophil cytoplasm is pale pink and contains fine, evenly distributed granules.\"\n",
      "    ),\n",
      "    (\n",
      "        \"Basophil cytoplasm is intensely basophilic, staining a deep purple-blue color.\",\n",
      "        \"Eosinophil cytoplasm is characteristically stained a bright orange-red color due to the eosin granules.\",\n",
      "        \"Lymphocyte cytoplasm is typically pale blue and may be difficult to distinguish.\",\n",
      "        \"Monocyte cytoplasm is typically a grayish-blue color, often with a slightly hazy appearance.\",\n",
      "        \"Neutrophil cytoplasm is pale pink to neutral, with granules staining a lilac color.\"\n",
      "    ),\n",
      "    (\n",
      "        \"Basophils contain large, dark blue-purple granules that often obscure the nucleus.\",\n",
      "        \"Eosinophils contain large, round, and refractile granules that stain bright orange-red.\",\n",
      "        \"Lymphocytes contain few, if any, visible granules in their cytoplasm.\",\n",
      "        \"Monocytes contain fine, azurophilic granules that are less prominent than those in granulocytes.\",\n",
      "        \"Neutrophils contain numerous, small, lilac-colored granules evenly distributed throughout the cytoplasm.\"\n",
      "    ),\n",
      "    (\n",
      "        \"Basophil granules are large, irregular, and intensely stained, often masking the cell's internal structure.\",\n",
      "        \"Eosinophil granules are large, round, and uniformly stained with eosin, appearing bright orange-red.\",\n",
      "        \"Lymphocytes typically lack prominent granules; any present are small and sparse.\",\n",
      "        \"Monocyte granules are fine, azurophilic, and sparsely distributed, appearing as small, purple dots.\",\n",
      "        \"Neutrophil granules are numerous, small, and evenly distributed, staining a lilac or pale purple color.\"\n",
      "    ),\n",
      "    (\n",
      "        \"Basophils exhibit very high granularity due to the abundance of large, dark granules.\",\n",
      "        \"Eosinophils demonstrate high granularity, with numerous prominent eosinophilic granules.\",\n",
      "        \"Lymphocytes exhibit low granularity, with minimal visible granules in the cytoplasm.\",\n",
      "        \"Monocytes show moderate granularity, with sparsely distributed azurophilic granules.\",\n",
      "        \"Neutrophils display moderate to high granularity, with numerous small, lilac-colored granules.\"\n",
      "    )\n",
      "]\n",
      "```\n"
     ]
    }
   ],
   "source": [
    "# Initial meta prompt for the first iteration\n",
    "meta_init_prompt = \"\"\"Give 8 distinct textual description sets of visual discriminative features to identify {task_specific_description}.\n",
    "Only provide the output as Python code in the following format: prompts = list[tuple[str, ...]]. Let's think step-by-step\"\"\"\n",
    "\n",
    "# Meta prompt template for subsequent iterations\n",
    "base_meta_prompt_template = \"\"\"The task is to generate distinct textual descriptions pairs of visual discriminative features to identify {task_specific_description}. \n",
    "Here are the best performing sets in ascending order. High scores indicate higher quality visual discriminative features.\n",
    "{content}\n",
    "Write {generate_n} new descriptions sets that are different from the old ones and has a score as high as possible, formulate a strategy.\n",
    "Only provide the output as Python code in the following format: prompts = list[tuple[str, ...]. Let's think step-by-step\n",
    "\"\"\"\n",
    "\n",
    "task_specific_description = \"\"\"Basophil, Eosinophil, Lymphocyte, Monocyte, and Neutrophil peripheral blood cells.\n",
    "These are the following features an expert would look for: Cell Size, Cell Shape, Nucleus Shape, Nuclear-Cytoplasmic Ratio, Chromatin-Density, Cytoplasm-Vacuole, Cytoplasm-Texture, Cytoplasm-Color, Granule-Type, Granule-Color, Granularity\n",
    "Each description set must contain five discriminating meaningful descriptions based on one of the above features for each of the five cell types. \n",
    "Format: (<feature description for Basophil>, <feature description for Eosinophil>, <feature description for Lymphocyte>, <feature description for Monocyte>, <feature description for Neutrophil>)\n",
    "\"\"\"\n",
    "\n",
    "response = client.get_llm_response(meta_init_prompt.format(task_specific_description=task_specific_description))\n",
    "print(response)"
   ]
  }
 ],
 "metadata": {
  "kernelspec": {
   "display_name": "ml_env",
   "language": "python",
   "name": "python3"
  },
  "language_info": {
   "codemirror_mode": {
    "name": "ipython",
    "version": 3
   },
   "file_extension": ".py",
   "mimetype": "text/x-python",
   "name": "python",
   "nbconvert_exporter": "python",
   "pygments_lexer": "ipython3",
   "version": "3.11.9"
  }
 },
 "nbformat": 4,
 "nbformat_minor": 5
}
