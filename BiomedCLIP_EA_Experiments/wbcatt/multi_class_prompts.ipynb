{
 "cells": [
  {
   "cell_type": "code",
   "execution_count": 1,
   "id": "360e2ba7",
   "metadata": {},
   "outputs": [
    {
     "name": "stderr",
     "output_type": "stream",
     "text": [
      "c:\\Users\\kaush\\pyenv\\ml_env\\Lib\\site-packages\\transformers\\utils\\generic.py:441: FutureWarning: `torch.utils._pytree._register_pytree_node` is deprecated. Please use `torch.utils._pytree.register_pytree_node` instead.\n",
      "  _torch_pytree._register_pytree_node(\n",
      "c:\\Users\\kaush\\pyenv\\ml_env\\Lib\\site-packages\\transformers\\utils\\generic.py:309: FutureWarning: `torch.utils._pytree._register_pytree_node` is deprecated. Please use `torch.utils._pytree.register_pytree_node` instead.\n",
      "  _torch_pytree._register_pytree_node(\n",
      "c:\\Users\\kaush\\pyenv\\ml_env\\Lib\\site-packages\\timm\\models\\layers\\__init__.py:48: FutureWarning: Importing from timm.models.layers is deprecated, please import via timm.layers\n",
      "  warnings.warn(f\"Importing from {__name__} is deprecated, please import via timm.layers\", FutureWarning)\n"
     ]
    }
   ],
   "source": [
    "import util\n",
    "client = util.LLMClient(provider='gemini')"
   ]
  },
  {
   "cell_type": "code",
   "execution_count": 21,
   "id": "457d86c3",
   "metadata": {},
   "outputs": [
    {
     "name": "stdout",
     "output_type": "stream",
     "text": [
      "```python\n",
      "prompts = [\n",
      "    (\"Dark blue-black granules fill most of the cell, obscuring the nucleus.\", \"Bright red-orange granules are prominent and evenly distributed.\", \"A large, round, darkly staining nucleus occupies most of the cell.\", \"The kidney-shaped nucleus is often eccentric with a gray-blue cytoplasm.\", \"Multi-lobed nucleus with pale lilac granules in the cytoplasm.\"),\n",
      "    (\"Characterized by large, irregular, dark purple granules.\", \"Displays abundant, coarse, eosinophilic granules.\", \"Small cell with a high nuclear-to-cytoplasmic ratio and scant cytoplasm.\", \"Large cell with a folded or horseshoe-shaped nucleus.\", \"Neutrophil cytoplasm is typically pale pink or lilac.\"),\n",
      "    (\"Typically the largest granulocyte, with a segmented nucleus barely visible.\", \"Granules stain intensely with eosin, giving a characteristic red appearance.\", \"Often exhibits a halo around the nucleus due to the thin cytoplasm.\", \"Cytoplasm is often described as 'ground glass' in appearance.\", \"Contains a segmented nucleus connected by thin filaments.\"),\n",
      "    (\"Contains histamine and heparin within its granules.\", \"Associated with allergic reactions and parasitic infections.\", \"Frequently seen in viral infections and immune responses.\", \"Plays a role in phagocytosis and antigen presentation.\", \"First responders to bacterial infections.\"),\n",
      "    (\"Low nuclear-cytoplasmic ratio with a densely granulated cytoplasm.\", \"Prominent granules often mask the segmented nucleus.\", \"High nuclear-cytoplasmic ratio with a smooth, round nucleus.\", \"Low nuclear-cytoplasmic ratio with a dull, gray-blue cytoplasm.\", \"Low nuclear-cytoplasmic ratio with a segmented nucleus and fine granules.\"),\n",
      "    (\"Granules are metachromatic, staining differently depending on the angle of light.\", \"Granules are uniform in size and shape, and are easily visible.\", \"Cytoplasm is typically clear and colorless.\", \"Cytoplasm is abundant and often contains vacuoles.\", \"Cytoplasm is filled with fine, lilac-colored granules.\"),\n",
      "    (\"Nucleus is often obscured by the dense granules.\", \"Nucleus is typically bi-lobed or multi-lobed.\", \"Nucleus is generally round or oval.\", \"Nucleus is often indented or folded.\", \"Nucleus is segmented with 3-5 lobes connected by thin strands.\"),\n",
      "    (\"Granules are non-uniform in size and staining intensity.\", \"Granules are typically round or oval.\", \"Nucleus is densely packed with chromatin.\", \"Nucleus has a delicate chromatin pattern.\", \"Chromatin is finely dispersed throughout the nucleus.\"),\n",
      "    (\"Cell size is generally 8-12 μm.\", \"Cell size is typically 12-15 μm.\", \"Cell size is usually 7-10 μm.\", \"Cell size is the largest, ranging from 12-20 μm.\", \"Cell size is approximately 10-15 μm.\"),\n",
      "    (\"Cell shape is generally round or oval.\", \"Cell shape is typically round or oval.\", \"Cell shape is generally round.\", \"Cell shape is often irregular.\", \"Cell shape is typically round or slightly elongated.\"),\n",
      "    (\"Nucleus is often hidden by granules.\", \"Nucleus is segmented with distinct lobes.\", \"Nucleus is round and occupies most of the cell.\", \"Nucleus is large and irregular in shape.\", \"Nucleus is segmented, typically with 3-5 lobes.\"),\n",
      "    (\"Granules are large and irregular.\", \"Granules are bright red and easily visible.\", \"Granules are absent.\", \"Granules are absent.\", \"Granules are small and numerous.\"),\n",
      "    (\"Granules stain intensely with basic dyes.\", \"Granules contain major basic protein.\", \"Cytoplasm is sparse and clear.\", \"Cytoplasm is abundant and gray-blue.\", \"Cytoplasm is pale pink or lilac.\"),\n",
      "    (\"Cytoplasm is often pale blue.\", \"Cytoplasm is eosinophilic.\", \"Cytoplasm is minimal.\", \"Cytoplasm is often vacuolated.\", \"Cytoplasm is filled with granules.\"),\n",
      "    (\"Granularity is high and prominent.\", \"Granularity is high and uniform.\", \"Granularity is absent.\", \"Granularity is absent.\", \"Granularity is fine and numerous.\"),\n",
      "    (\"The nucleus is deeply stained and segmented.\", \"The nucleus is segmented and often bi-lobed.\", \"The nucleus is darkly stained and round.\", \"The nucleus is large and kidney-shaped.\", \"The nucleus is segmented and connected by thin filaments.\"),\n",
      "    (\"Basophils are rare in peripheral blood.\", \"Eosinophils increase in allergic reactions.\", \"Lymphocytes are crucial for adaptive immunity.\", \"Monocytes differentiate into macrophages.\", \"Neutrophils are the most abundant white blood cell.\"),\n",
      "    (\"Granules are often described as 'basket-like'.\", \"Granules are often arranged in clusters.\", \"Nuclear chromatin is condensed.\", \"Nuclear chromatin is lacy.\", \"Nuclear chromatin is segmented.\"),\n",
      "    (\"Cell is often seen in chronic inflammatory conditions.\", \"Cell is often seen in parasitic infections.\", \"Cell is often seen in acute viral infections.\", \"Cell is often seen in chronic infections.\", \"Cell is often seen in acute bacterial infections.\"),\n",
      "    (\"The cell is easily identified by its dark staining granules.\", \"The cell is easily identified by its red staining granules.\", \"The cell is easily identified by its large nucleus.\", \"The cell is easily identified by its kidney-shaped nucleus.\", \"The cell is easily identified by its segmented nucleus.\")\n",
      "]\n",
      "```\n"
     ]
    }
   ],
   "source": [
    "# Initial meta prompt for the first iteration\n",
    "meta_init_prompt = \"\"\"Give 20 distinct textual description sets of visual discriminative features to identify {task_specific_description}.\n",
    "Only provide the output as Python code in the following format: prompts = list[tuple[str, ...]]. Let's think step-by-step\"\"\"\n",
    "\n",
    "# Meta prompt template for subsequent iterations\n",
    "base_meta_prompt_template = \"\"\"The task is to generate distinct textual descriptions pairs of visual discriminative features to identify {task_specific_description}. \n",
    "Here are the best performing sets in ascending order. High scores indicate higher quality visual discriminative features.\n",
    "{content}\n",
    "Write {generate_n} new descriptions sets that are different from the old ones and has a score as high as possible, formulate a strategy.\n",
    "Only provide the output as Python code in the following format: prompts = list[tuple[str, ...]. Let's think step-by-step\n",
    "\"\"\"\n",
    "\n",
    "task_specific_description = \"\"\"Basophil, Eosinophil, Lymphocyte, Monocyte, and Neutrophil peripheral blood cells.\n",
    "These are the following features an expert would look for: Cell Size, Cell Shape, Nucleus Shape, Nuclear-Cytoplasmic Ratio, Chromatin-Density, Cytoplasm-Vacuole, Cytoplasm-Texture, Cytoplasm-Color, Granule-Type, Granule-Color, Granularity\n",
    "Basophils: Nucleus=Segmented, NC Ratio=Low, Granularity=Yes, Color=Blue/Black (dense), Size=-\n",
    "Eosinophils: Nucleus=Segmented, NC Ratio=Low, Granularity=Yes, Color=Red, Size=-\n",
    "Lymphocytes: Nucleus=Unsegmented, NC Ratio=High, Granularity=No, Color=-, Size=Small\n",
    "Monocytes: Nucleus=Unsegmented, NC Ratio=Low, Granularity=No, Color=-, Size=-\n",
    "Neutrophils: Nucleus=Segmented, NC Ratio=Low, Granularity=Yes, Color=Blue, Size=-\n",
    "Each description set must contain five discriminating meaningful descriptions to identify each of the five cell types.\n",
    "Format: <Features describing Basophil>, <Features describing Eosinophil>, <Features describing Lymphocyte>, <Features describing Monocyte>, <Features describing Neutrophil> \n",
    "\"\"\"\n",
    "\n",
    "response = client.get_llm_response(meta_init_prompt.format(task_specific_description=task_specific_description))\n",
    "print(response)"
   ]
  }
 ],
 "metadata": {
  "kernelspec": {
   "display_name": "ml_env",
   "language": "python",
   "name": "python3"
  },
  "language_info": {
   "codemirror_mode": {
    "name": "ipython",
    "version": 3
   },
   "file_extension": ".py",
   "mimetype": "text/x-python",
   "name": "python",
   "nbconvert_exporter": "python",
   "pygments_lexer": "ipython3",
   "version": "3.11.9"
  }
 },
 "nbformat": 4,
 "nbformat_minor": 5
}
