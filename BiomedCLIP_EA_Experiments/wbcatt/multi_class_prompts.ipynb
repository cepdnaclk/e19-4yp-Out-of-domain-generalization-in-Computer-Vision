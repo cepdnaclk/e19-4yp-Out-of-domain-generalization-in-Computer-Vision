{
 "cells": [
  {
   "cell_type": "code",
   "execution_count": 2,
   "id": "360e2ba7",
   "metadata": {},
   "outputs": [],
   "source": [
    "import util\n",
    "client = util.LLMClient(provider='gemini')"
   ]
  },
  {
   "cell_type": "code",
   "execution_count": 16,
   "id": "457d86c3",
   "metadata": {},
   "outputs": [
    {
     "name": "stdout",
     "output_type": "stream",
     "text": [
      "```python\n",
      "prompts = [\n",
      "    (\"Smallest cell size, typically 8-10 μm\", \"Medium cell size, 12-17 μm\", \"Small to medium, 7-15 μm\", \"Largest cell size, 12-20 μm\", \"Medium cell size, 10-15 μm\"),\n",
      "    (\"Round to irregular shape, often obscured by granules\", \"Round to oval shape\", \"Generally round shape\", \"Irregular, often kidney-bean shaped\", \"Round to slightly elongated shape\"),\n",
      "    (\"Kidney-bean or S-shaped nucleus, often bilobed\", \"Bilobed nucleus, typically with prominent lobes\", \"Round, densely stained nucleus\", \"Kidney-shaped or horseshoe-shaped nucleus\", \"Multilobed nucleus, typically 3-5 lobes\"),\n",
      "    (\"High nuclear-cytoplasmic ratio, nucleus occupies most of the cell\", \"Moderate nuclear-cytoplasmic ratio\", \"High nuclear-cytoplasmic ratio, little visible cytoplasm\", \"Low nuclear-cytoplasmic ratio, abundant cytoplasm\", \"Moderate nuclear-cytoplasmic ratio\"),\n",
      "    (\"Dense, often obscured chromatin due to granules\", \"Relatively coarse chromatin pattern\", \"Dense, condensed chromatin\", \"Lacy, open chromatin pattern\", \"Fine, evenly distributed chromatin\"),\n",
      "    (\"Few, if any visible cytoplasmic vacuoles\", \"Rarely contains visible vacuoles\", \"Absent or very few vacuoles\", \"Often contains vacuoles, sometimes prominent\", \"Few or no visible vacuoles\"),\n",
      "    (\"Smooth, homogenous cytoplasm, often obscured by granules\", \"Smooth cytoplasm, may show some granularity\", \"Sparse, clear cytoplasm\", \"Abundant, often grey-blue cytoplasm\", \"Fine, evenly distributed cytoplasm\"),\n",
      "    (\"Dark blue cytoplasm, often masked by granules\", \"Pale pink cytoplasm\", \"Pale blue cytoplasm\", \"Grey-blue cytoplasm\", \"Pale pink to neutral cytoplasm\"),\n",
      "    (\"Large, dark purple granules, often obscuring the nucleus\", \"Large, bright orange-red granules\", \"Few to no visible granules\", \"Few, fine, grey-blue granules\", \"Small, pale lilac granules\"),\n",
      "    (\"Granules are basophilic, staining dark purple\", \"Granules are eosinophilic, staining bright orange-red\", \"Typically no granules present\", \"Granules are azurophilic, staining grey-blue\", \"Granules are neutrophilic, staining pale lilac\"),\n",
      "    (\"Very high granularity, densely packed granules\", \"High granularity, prominent granules\", \"Low granularity, almost agranular\", \"Low to moderate granularity\", \"Moderate granularity, evenly distributed\"),\n",
      "    (\"Granules are uniform in size and staining intensity\", \"Granules are generally uniform in size\", \"Granules are absent\", \"Granules are variable in size and staining\", \"Granules are uniform in size\"),\n",
      "    (\"Granules often cover the entire cell\", \"Granules are concentrated in the cytoplasm\", \"No granules to cover the cell\", \"Granules are scattered throughout the cytoplasm\", \"Granules are evenly distributed throughout the cytoplasm\"),\n",
      "    (\"Granules are round and regular\", \"Granules are round and distinct\", \"No granules to describe\", \"Granules are irregular in shape\", \"Granules are round to oval\"),\n",
      "    (\"Granules are intensely staining\", \"Granules are brightly staining\", \"No granules to describe\", \"Granules are faintly staining\", \"Granules are lightly staining\"),\n",
      "    (\"Cell size: 6-8 μm\", \"Cell size: 14-18 μm\", \"Cell size: 8-10 μm\", \"Cell size: 16-22 μm\", \"Cell size: 9-12 μm\"),\n",
      "    (\"Shape: Irregular, often convoluted\", \"Shape: Oval to round\", \"Shape: Small, round\", \"Shape: Large, irregular\", \"Shape: Round, segmented\"),\n",
      "    (\"Nucleus: Deeply basophilic, often obscured\", \"Nucleus: Typically bilobed\", \"Nucleus: Round, dark\", \"Nucleus: Horseshoe-shaped\", \"Nucleus: Segmented, 3-5 lobes\"),\n",
      "    (\"Ratio: Nucleus dominates the cell\", \"Ratio: Moderate cytoplasm\", \"Ratio: High nucleus to cytoplasm\", \"Ratio: Abundant cytoplasm\", \"Ratio: Moderate nucleus to cytoplasm\"),\n",
      "    (\"Chromatin: Dense, condensed\", \"Chromatin: Coarse, clumped\", \"Chromatin: Dense, uniform\", \"Chromatin: Lacy, open\", \"Chromatin: Fine, evenly distributed\"),\n",
      "    (\"Vacuoles: Rare\", \"Vacuoles: Absent\", \"Vacuoles: Absent\", \"Vacuoles: Common\", \"Vacuoles: Rare\"),\n",
      "    (\"Texture: Smooth, homogenous\", \"Texture: Granular\", \"Texture: Sparse\", \"Texture: Abundant\", \"Texture: Fine\"),\n",
      "    (\"Color: Dark blue\", \"Color: Pink\", \"Color: Light blue\", \"Color: Grey-blue\", \"Color: Pale pink\"),\n",
      "    (\"Granules: Large, dark purple\", \"Granules: Orange-red\", \"Granules: Absent\", \"Granules: Grey-blue\", \"Granules: Lilac\"),\n",
      "    (\"Granularity: Very high\", \"Granularity: High\", \"Granularity: Low\", \"Granularity: Moderate\", \"Granularity: Moderate\"),\n",
      "    (\"Cell size is consistently small\", \"Eosinophils are larger than lymphocytes\", \"Lymphocytes have a large nucleus\", \"Monocytes are the largest\", \"Neutrophils have segmented nuclei\"),\n",
      "    (\"Basophil granules mask the nucleus\", \"Eosinophil granules are easily identifiable\", \"Lymphocyte cytoplasm is minimal\", \"Monocyte cytoplasm is abundant\", \"Neutrophil granules are numerous\"),\n",
      "    (\"Basophil chromatin is difficult to assess\", \"Eosinophil chromatin is distinct\", \"Lymphocyte chromatin is condensed\", \"Monocyte chromatin is delicate\", \"Neutrophil chromatin is variable\"),\n",
      "    (\"Basophil vacuoles are uncommon\", \"Eosinophil vacuoles are rare\", \"Lymphocyte vacuoles are absent\", \"Monocyte vacuoles are frequent\", \"Neutrophil vacuoles are infrequent\"),\n",
      "    (\"Basophil cytoplasm is often obscured\", \"Eosinophil cytoplasm is pale\", \"Lymphocyte cytoplasm is sparse\", \"Monocyte cytoplasm is grey-blue\", \"Neutrophil cytoplasm is pale pink\"),\n",
      "    (\"Basophil granules are metachromatic\", \"Eosinophil granules contain major basic protein\", \"Lymphocyte granules are absent\", \"Monocyte granules contain lysosomes\", \"Neutrophil granules contain enzymes\"),\n",
      "    (\"Basophil granules are irregular in shape\", \"Eosinophil granules are round\", \"Lymphocyte granules are absent\", \"Monocyte granules are irregular\", \"Neutrophil granules are round to oval\"),\n",
      "    (\"Basophil granules are intensely stained\", \"Eosinophil granules are brightly stained\", \"Lymphocyte granules are absent\", \"Monocyte granules are faintly stained\", \"Neutrophil granules are lightly stained\"),\n",
      "    (\"Basophil granules are often clustered\", \"Eosinophil granules are evenly distributed\", \"Lymphocyte granules are absent\", \"Monocyte granules are scattered\", \"Neutrophil granules are evenly distributed\"),\n",
      "    (\"Basophil granules are variable in size\", \"Eosinophil granules are uniform in size\", \"Lymphocyte granules are absent\", \"Monocyte granules are variable in size\", \"Neutrophil granules are uniform in size\"),\n",
      "    (\"Smallest cell diameter\", \"Intermediate cell diameter\", \"Smallest cell diameter (except Basophil)\", \"Largest cell diameter\", \"Intermediate cell diameter\"),\n",
      "    (\"Irregular cell outline\", \"Oval cell outline\", \"Round cell outline\", \"Irregular cell outline\", \"Segmented cell outline\"),\n",
      "    (\"Nucleus often hidden by granules\", \"Nucleus typically has two lobes\", \"Nucleus occupies most of the cell\", \"Nucleus is kidney-shaped\", \"Nucleus is segmented\"),\n",
      "    (\"High N/C ratio\", \"Moderate N/C ratio\", \"High N/C ratio\", \"Low N/C ratio\", \"Moderate N/C ratio\"),\n",
      "    (\"Chromatin is dense and obscured\", \"Chromatin is coarse\", \"Chromatin is dense\", \"Chromatin is lacy\", \"Chromatin is fine\"),\n",
      "    (\"Few or no vacuoles\", \"No vacuoles\", \"No vacuoles\", \"Numerous vacuoles\", \"Few vacuoles\"),\n",
      "    (\"Cytoplasm is smooth\", \"Cytoplasm is granular\", \"Cytoplasm is sparse\", \"Cytoplasm is abundant\", \"Cytoplasm is fine\"),\n",
      "    (\"Cytoplasm is dark blue\", \"Cytoplasm is pink\", \"Cytoplasm is light blue\", \"Cytoplasm is grey-blue\", \"Cytoplasm is pale pink\"),\n",
      "    (\"Large, dark purple granules\", \"Large, orange-red granules\", \"No granules\", \"Small, grey-blue granules\", \"Small, lilac granules\"),\n",
      "    (\"Very high granularity\", \"High granularity\", \"No granularity\", \"Low granularity\", \"Moderate granularity\")\n",
      "]\n",
      "```\n"
     ]
    }
   ],
   "source": [
    "# Initial meta prompt for the first iteration\n",
    "meta_init_prompt = \"\"\"Give 50 distinct textual description sets of visual discriminative features to identify {task_specific_description}.\n",
    "Only provide the output as Python code in the following format: prompts = list[tuple[str, ...]]. Let's think step-by-step\"\"\"\n",
    "\n",
    "# Meta prompt template for subsequent iterations\n",
    "base_meta_prompt_template = \"\"\"The task is to generate distinct textual descriptions pairs of visual discriminative features to identify {task_specific_description}. \n",
    "Here are the best performing sets in ascending order. High scores indicate higher quality visual discriminative features.\n",
    "{content}\n",
    "Write {generate_n} new descriptions sets that are different from the old ones and has a score as high as possible, formulate a strategy.\n",
    "Only provide the output as Python code in the following format: prompts = list[tuple[str, ...]. Let's think step-by-step\n",
    "\"\"\"\n",
    "\n",
    "task_specific_description = \"\"\"Basophil, Eosinophil, Lymphocyte, Monocyte, and Neutrophil peripheral blood cells.\n",
    "These are the following features an expert would look for: Cell Size, Cell Shape, Nucleus Shape, Nuclear-Cytoplasmic Ratio, Chromatin-Density, Cytoplasm-Vacuole, Cytoplasm-Texture, Cytoplasm-Color, Granule-Type, Granule-Color, Granularity\n",
    "Each description set must contain five discriminating meaningful descriptions based on one of the above features for each of the five cell types. \n",
    "Format: (<feature description for Basophil>, <feature description for Eosinophil>, <feature description for Lymphocyte>, <feature description for Monocyte>, <feature description for Neutrophil>)\n",
    "\"\"\"\n",
    "\n",
    "\n",
    "response = client.get_llm_response(meta_init_prompt.format(task_specific_description=task_specific_description))\n",
    "print(response)"
   ]
  }
 ],
 "metadata": {
  "kernelspec": {
   "display_name": "ml_env",
   "language": "python",
   "name": "python3"
  },
  "language_info": {
   "codemirror_mode": {
    "name": "ipython",
    "version": 3
   },
   "file_extension": ".py",
   "mimetype": "text/x-python",
   "name": "python",
   "nbconvert_exporter": "python",
   "pygments_lexer": "ipython3",
   "version": "3.11.9"
  }
 },
 "nbformat": 4,
 "nbformat_minor": 5
}
