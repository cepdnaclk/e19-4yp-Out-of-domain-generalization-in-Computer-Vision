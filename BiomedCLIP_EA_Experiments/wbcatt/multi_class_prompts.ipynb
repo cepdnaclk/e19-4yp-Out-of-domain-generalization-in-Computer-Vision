{
 "cells": [
  {
   "cell_type": "code",
   "execution_count": 1,
   "id": "360e2ba7",
   "metadata": {},
   "outputs": [
    {
     "name": "stderr",
     "output_type": "stream",
     "text": [
      "c:\\Users\\kaush\\pyenv\\ml_env\\Lib\\site-packages\\transformers\\utils\\generic.py:441: FutureWarning: `torch.utils._pytree._register_pytree_node` is deprecated. Please use `torch.utils._pytree.register_pytree_node` instead.\n",
      "  _torch_pytree._register_pytree_node(\n",
      "c:\\Users\\kaush\\pyenv\\ml_env\\Lib\\site-packages\\transformers\\utils\\generic.py:309: FutureWarning: `torch.utils._pytree._register_pytree_node` is deprecated. Please use `torch.utils._pytree.register_pytree_node` instead.\n",
      "  _torch_pytree._register_pytree_node(\n",
      "c:\\Users\\kaush\\pyenv\\ml_env\\Lib\\site-packages\\timm\\models\\layers\\__init__.py:48: FutureWarning: Importing from timm.models.layers is deprecated, please import via timm.layers\n",
      "  warnings.warn(f\"Importing from {__name__} is deprecated, please import via timm.layers\", FutureWarning)\n"
     ]
    }
   ],
   "source": [
    "import util\n",
    "client = util.LLMClient(provider='gemini')"
   ]
  },
  {
   "cell_type": "code",
   "execution_count": 15,
   "id": "457d86c3",
   "metadata": {},
   "outputs": [
    {
     "name": "stdout",
     "output_type": "stream",
     "text": [
      "```python\n",
      "prompts = [\n",
      "    (\n",
      "        \"Basophils are typically 8-16 μm in size, among the smallest leukocytes.\",\n",
      "        \"Eosinophils are medium-sized, ranging from 12-17 μm.\",\n",
      "        \"Lymphocytes are generally small, 7-15 μm, often appearing the smallest.\",\n",
      "        \"Monocytes are the largest of the peripheral blood cells, 12-20 μm.\",\n",
      "        \"Neutrophils are medium-sized, typically 10-15 μm.\"\n",
      "    ),\n",
      "    (\n",
      "        \"Basophils exhibit a round to irregular shape, often obscured by granules.\",\n",
      "        \"Eosinophils are generally round, but can be slightly irregular.\",\n",
      "        \"Lymphocytes are typically round with a slightly indented nucleus.\",\n",
      "        \"Monocytes are irregularly shaped, often kidney-bean or horseshoe-shaped.\",\n",
      "        \"Neutrophils are round to oval, exhibiting flexibility to navigate capillaries.\"\n",
      "    ),\n",
      "    (\n",
      "        \"Basophil nuclei are often bilobed or S-shaped, but frequently obscured.\",\n",
      "        \"Eosinophil nuclei are typically bilobed, with a distinct, clear appearance.\",\n",
      "        \"Lymphocyte nuclei are round, dense, and occupy most of the cell volume.\",\n",
      "        \"Monocyte nuclei are often kidney-shaped or horseshoe-shaped, with folded chromatin.\",\n",
      "        \"Neutrophil nuclei are multi-lobed (typically 3-5 lobes) and connected by thin filaments.\"\n",
      "    ),\n",
      "    (\n",
      "        \"Basophils have a low nuclear-cytoplasmic ratio due to abundant granules.\",\n",
      "        \"Eosinophils have a moderate nuclear-cytoplasmic ratio, with visible cytoplasm.\",\n",
      "        \"Lymphocytes have a high nuclear-cytoplasmic ratio, with minimal cytoplasm.\",\n",
      "        \"Monocytes have a moderate to high nuclear-cytoplasmic ratio, with ample cytoplasm.\",\n",
      "        \"Neutrophils have a moderate nuclear-cytoplasmic ratio, with a visible but not excessive amount of cytoplasm.\"\n",
      "    ),\n",
      "    (\n",
      "        \"Basophil chromatin is often difficult to assess due to dense granules.\",\n",
      "        \"Eosinophil chromatin is typically condensed and evenly distributed.\",\n",
      "        \"Lymphocyte chromatin is densely packed and stains dark purple.\",\n",
      "        \"Monocyte chromatin is often loosely arranged and 'lacy' in appearance.\",\n",
      "        \"Neutrophil chromatin is finely granular and segmented, corresponding to nuclear lobes.\"\n",
      "    ),\n",
      "    (\n",
      "        \"Basophils frequently contain large, dark blue-purple cytoplasmic vacuoles filled with granules.\",\n",
      "        \"Eosinophils contain prominent, large, round cytoplasmic vacuoles containing eosinophilic granules.\",\n",
      "        \"Lymphocytes generally lack prominent cytoplasmic vacuoles.\",\n",
      "        \"Monocytes may contain small vacuoles, often with a 'dusty' appearance.\",\n",
      "        \"Neutrophils may contain small, pale vacuoles, but they are less prominent than in other cells.\"\n",
      "    ),\n",
      "    (\n",
      "        \"Basophil cytoplasm is often obscured by numerous, large granules.\",\n",
      "        \"Eosinophil cytoplasm is granular due to the presence of eosinophilic granules.\",\n",
      "        \"Lymphocyte cytoplasm is typically scant and clear, with a smooth texture.\",\n",
      "        \"Monocyte cytoplasm is abundant, often described as 'ground glass' or slightly granular.\",\n",
      "        \"Neutrophil cytoplasm is pale pink and contains fine, evenly distributed granules.\"\n",
      "    ),\n",
      "    (\n",
      "        \"Basophil cytoplasm is typically a pale blue-gray, often masked by granules.\",\n",
      "        \"Eosinophil cytoplasm is characterized by the presence of bright orange-red granules.\",\n",
      "        \"Lymphocyte cytoplasm is typically pale blue and relatively uniform.\",\n",
      "        \"Monocyte cytoplasm is typically a gray-blue color, often with a hazy appearance.\",\n",
      "        \"Neutrophil cytoplasm is pale pink or neutral in color.\"\n",
      "    ),\n",
      "    (\n",
      "        \"Basophils contain large, dark blue-purple granules.\",\n",
      "        \"Eosinophils contain large, bright orange-red granules.\",\n",
      "        \"Lymphocytes typically lack prominent granules, though some may have azurophilic granules.\",\n",
      "        \"Monocytes contain fine, azurophilic (lilac) granules.\",\n",
      "        \"Neutrophils contain numerous, small, pale lilac granules.\"\n",
      "    ),\n",
      "    (\n",
      "        \"Basophil granules are large, irregular, and stain intensely dark blue-purple.\",\n",
      "        \"Eosinophil granules are large, round, and stain bright orange-red with eosin.\",\n",
      "        \"Lymphocyte granules, when present, are small and azurophilic (pale purple).\",\n",
      "        \"Monocyte granules are fine, evenly distributed, and stain a lilac color.\",\n",
      "        \"Neutrophil granules are numerous, small, and stain a pale lilac or neutral color.\"\n",
      "    ),\n",
      "    (\n",
      "        \"Basophils exhibit very high granularity due to numerous, large granules.\",\n",
      "        \"Eosinophils exhibit high granularity due to abundant, large eosinophilic granules.\",\n",
      "        \"Lymphocytes exhibit low granularity, with minimal visible granules.\",\n",
      "        \"Monocytes exhibit moderate granularity with fine, evenly distributed granules.\",\n",
      "        \"Neutrophils exhibit high granularity due to numerous, small granules.\"\n",
      "    )\n",
      "]\n",
      "```\n"
     ]
    }
   ],
   "source": [
    "# Initial meta prompt for the first iteration\n",
    "meta_init_prompt = \"\"\"Give 8 distinct textual description sets of visual discriminative features to identify {task_specific_description}.\n",
    "Only provide the output as Python code in the following format: prompts = list[tuple[str, ...]]. Let's think step-by-step\"\"\"\n",
    "\n",
    "# Meta prompt template for subsequent iterations\n",
    "base_meta_prompt_template = \"\"\"The task is to generate distinct textual descriptions pairs of visual discriminative features to identify {task_specific_description}. \n",
    "Here are the best performing sets in ascending order. High scores indicate higher quality visual discriminative features.\n",
    "{content}\n",
    "Write {generate_n} new descriptions sets that are different from the old ones and has a score as high as possible, formulate a strategy.\n",
    "Only provide the output as Python code in the following format: prompts = list[tuple[str, ...]. Let's think step-by-step\n",
    "\"\"\"\n",
    "\n",
    "task_specific_description = \"\"\"Basophil, Eosinophil, Lymphocyte, Monocyte, and Neutrophil peripheral blood cells.\n",
    "These are the following features an expert would look for: Cell Size, Cell Shape, Nucleus Shape, Nuclear-Cytoplasmic Ratio, Chromatin-Density, Cytoplasm-Vacuole, Cytoplasm-Texture, Cytoplasm-Color, Granule-Type, Granule-Color, Granularity\n",
    "Each description set must contain five discriminating meaningful descriptions based on one of the above features for each of the five cell types. \n",
    "Format: (<description for Basophil>, <description for Eosinophil>, <description for Lymphocyte>, <description for Monocyte>, <description for Neutrophil>)\n",
    "\"\"\"\n",
    "\n",
    "response = client.get_llm_response(meta_init_prompt.format(task_specific_description=task_specific_description))\n",
    "print(response)"
   ]
  }
 ],
 "metadata": {
  "kernelspec": {
   "display_name": "ml_env",
   "language": "python",
   "name": "python3"
  },
  "language_info": {
   "codemirror_mode": {
    "name": "ipython",
    "version": 3
   },
   "file_extension": ".py",
   "mimetype": "text/x-python",
   "name": "python",
   "nbconvert_exporter": "python",
   "pygments_lexer": "ipython3",
   "version": "3.11.9"
  }
 },
 "nbformat": 4,
 "nbformat_minor": 5
}
