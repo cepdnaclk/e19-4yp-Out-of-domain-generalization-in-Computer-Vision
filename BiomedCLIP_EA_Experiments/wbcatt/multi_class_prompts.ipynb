{
 "cells": [
  {
   "cell_type": "code",
   "execution_count": 1,
   "id": "360e2ba7",
   "metadata": {},
   "outputs": [
    {
     "name": "stderr",
     "output_type": "stream",
     "text": [
      "c:\\Users\\kaush\\pyenv\\ml_env\\Lib\\site-packages\\transformers\\utils\\generic.py:441: FutureWarning: `torch.utils._pytree._register_pytree_node` is deprecated. Please use `torch.utils._pytree.register_pytree_node` instead.\n",
      "  _torch_pytree._register_pytree_node(\n",
      "c:\\Users\\kaush\\pyenv\\ml_env\\Lib\\site-packages\\transformers\\utils\\generic.py:309: FutureWarning: `torch.utils._pytree._register_pytree_node` is deprecated. Please use `torch.utils._pytree.register_pytree_node` instead.\n",
      "  _torch_pytree._register_pytree_node(\n",
      "c:\\Users\\kaush\\pyenv\\ml_env\\Lib\\site-packages\\timm\\models\\layers\\__init__.py:48: FutureWarning: Importing from timm.models.layers is deprecated, please import via timm.layers\n",
      "  warnings.warn(f\"Importing from {__name__} is deprecated, please import via timm.layers\", FutureWarning)\n"
     ]
    }
   ],
   "source": [
    "import util\n",
    "client = util.LLMClient(provider='gemini')"
   ]
  },
  {
   "cell_type": "code",
   "execution_count": 19,
   "id": "457d86c3",
   "metadata": {},
   "outputs": [
    {
     "name": "stdout",
     "output_type": "stream",
     "text": [
      "```python\n",
      "prompts = [\n",
      "    (\n",
      "        \"Characterized by large, dark blue/black granules obscuring the nucleus.\",\n",
      "        \"Distinguished by prominent, bright red-orange granules filling the cytoplasm.\",\n",
      "        \"Typically small cells with a large, round, densely stained nucleus and minimal cytoplasm.\",\n",
      "        \"Largest of the white blood cells, exhibiting a kidney-shaped or horseshoe-shaped nucleus.\",\n",
      "        \"Contains a segmented nucleus (3-5 lobes) and fine, pale blue granules.\"\n",
      "    ),\n",
      "    (\n",
      "        \"Displays a segmented nucleus often hidden by numerous, intensely stained granules.\",\n",
      "        \"Shows a segmented nucleus and abundant cytoplasm filled with large, eosinophilic granules.\",\n",
      "        \"Possesses a high nuclear-cytoplasmic ratio, with a relatively small amount of cytoplasm.\",\n",
      "        \"Features a relatively low nuclear-cytoplasmic ratio and a grey-blue cytoplasm.\",\n",
      "        \"Demonstrates a low nuclear-cytoplasmic ratio and a cytoplasm packed with neutrophilic granules.\"\n",
      "    ),\n",
      "    (\n",
      "        \"Exhibits a low nuclear-cytoplasmic ratio and a cytoplasm densely packed with basophilic granules.\",\n",
      "        \"Identified by its low nuclear-cytoplasmic ratio and cytoplasm filled with characteristic red granules.\",\n",
      "        \"Has a high nuclear-cytoplasmic ratio and a smooth, non-granular cytoplasm.\",\n",
      "        \"Displays a characteristic 'ground glass' appearance to the cytoplasm.\",\n",
      "        \"Shows a segmented nucleus connected by thin strands of chromatin.\"\n",
      "    ),\n",
      "    (\n",
      "        \"Granules are typically so numerous they can obscure the segmented nucleus.\",\n",
      "        \"Granules are uniform in size and stain intensely with eosin dye.\",\n",
      "        \"The nucleus is often eccentrically located and stains deeply purple.\",\n",
      "        \"The cytoplasm is often abundant and may contain small vacuoles.\",\n",
      "        \"The granules are neutral staining and may appear lilac or pale blue.\"\n",
      "    ),\n",
      "    (\n",
      "        \"The nucleus is often bilobed or irregularly shaped, but obscured by granules.\",\n",
      "        \"The granules are easily visible and represent lysosomes filled with enzymes.\",\n",
      "        \"The cytoplasm is typically scant and stains a pale blue color.\",\n",
      "        \"The nucleus is typically round or oval and takes up a significant portion of the cell.\",\n",
      "        \"The segmented nucleus is a key identifying feature, with varying numbers of lobes.\"\n",
      "    ),\n",
      "    (\n",
      "        \"Rarely seen in peripheral blood, often associated with allergic reactions.\",\n",
      "        \"Elevated numbers are often seen in parasitic infections and allergic diseases.\",\n",
      "        \"Crucial for adaptive immunity, including antibody production and cell-mediated immunity.\",\n",
      "        \"Phagocytic cells that differentiate into macrophages and dendritic cells.\",\n",
      "        \"First responders to bacterial infections, exhibiting chemotaxis and phagocytosis.\"\n",
      "    ),\n",
      "    (\n",
      "        \"Cytoplasm is often pale blue and may contain a few small vacuoles.\",\n",
      "        \"Cytoplasm is abundant and granular, with a slightly pinkish hue.\",\n",
      "        \"Cytoplasm is minimal and typically stains a light blue color.\",\n",
      "        \"Cytoplasm is often described as 'hazy' or 'ground glass' in appearance.\",\n",
      "        \"Cytoplasm is pale pink or lilac and contains numerous fine granules.\"\n",
      "    ),\n",
      "    (\n",
      "        \"Granules are metachromatic, staining differently depending on the dye used.\",\n",
      "        \"Granules contain major basic protein, responsible for their staining characteristics.\",\n",
      "        \"Lack prominent granules; cytoplasm appears clear and homogenous.\",\n",
      "        \"Cytoplasm is often vacuolated, containing lysosomes and other organelles.\",\n",
      "        \"Granules contain enzymes like myeloperoxidase and elastase.\"\n",
      "    )\n",
      "]\n",
      "```\n"
     ]
    }
   ],
   "source": [
    "# Initial meta prompt for the first iteration\n",
    "meta_init_prompt = \"\"\"Give 8 distinct textual description sets of visual discriminative features to identify {task_specific_description}.\n",
    "Only provide the output as Python code in the following format: prompts = list[tuple[str, ...]]. Let's think step-by-step\"\"\"\n",
    "\n",
    "# Meta prompt template for subsequent iterations\n",
    "base_meta_prompt_template = \"\"\"The task is to generate distinct textual descriptions pairs of visual discriminative features to identify {task_specific_description}. \n",
    "Here are the best performing sets in ascending order. High scores indicate higher quality visual discriminative features.\n",
    "{content}\n",
    "Write {generate_n} new descriptions sets that are different from the old ones and has a score as high as possible, formulate a strategy.\n",
    "Only provide the output as Python code in the following format: prompts = list[tuple[str, ...]. Let's think step-by-step\n",
    "\"\"\"\n",
    "\n",
    "task_specific_description = \"\"\"Basophil, Eosinophil, Lymphocyte, Monocyte, and Neutrophil peripheral blood cells.\n",
    "These are the following features an expert would look for: Cell Size, Cell Shape, Nucleus Shape, Nuclear-Cytoplasmic Ratio, Chromatin-Density, Cytoplasm-Vacuole, Cytoplasm-Texture, Cytoplasm-Color, Granule-Type, Granule-Color, Granularity\n",
    "Basophils: Nucleus=Segmented, NC Ratio=Low, Granularity=Yes, Color=Blue/Black (dense), Size=-\n",
    "Eosinophils: Nucleus=Segmented, NC Ratio=Low, Granularity=Yes, Color=Red, Size=-\n",
    "Lymphocytes: Nucleus=Unsegmented, NC Ratio=High, Granularity=No, Color=-, Size=Small\n",
    "Monocytes: Nucleus=Unsegmented, NC Ratio=Low, Granularity=No, Color=-, Size=-\n",
    "Neutrophils: Nucleus=Segmented, NC Ratio=Low, Granularity=Yes, Color=Blue, Size=-\n",
    "Each description set must contain five discriminating meaningful descriptions to identify each of the five cell types.\n",
    "Format: <Features describing Basophil>, <Features describing Eosinophil>, <Features describing Lymphocyte>, <Features describing Monocyte>, <Features describing Neutrophil> \n",
    "\"\"\"\n",
    "\n",
    "response = client.get_llm_response(meta_init_prompt.format(task_specific_description=task_specific_description))\n",
    "print(response)"
   ]
  }
 ],
 "metadata": {
  "kernelspec": {
   "display_name": "ml_env",
   "language": "python",
   "name": "python3"
  },
  "language_info": {
   "codemirror_mode": {
    "name": "ipython",
    "version": 3
   },
   "file_extension": ".py",
   "mimetype": "text/x-python",
   "name": "python",
   "nbconvert_exporter": "python",
   "pygments_lexer": "ipython3",
   "version": "3.11.9"
  }
 },
 "nbformat": 4,
 "nbformat_minor": 5
}
