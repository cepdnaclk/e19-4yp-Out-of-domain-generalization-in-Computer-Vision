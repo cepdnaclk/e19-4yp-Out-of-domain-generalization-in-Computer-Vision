{
 "cells": [
  {
   "cell_type": "code",
   "execution_count": 1,
   "id": "360e2ba7",
   "metadata": {},
   "outputs": [
    {
     "name": "stderr",
     "output_type": "stream",
     "text": [
      "c:\\Users\\kaush\\pyenv\\ml_env\\Lib\\site-packages\\transformers\\utils\\generic.py:441: FutureWarning: `torch.utils._pytree._register_pytree_node` is deprecated. Please use `torch.utils._pytree.register_pytree_node` instead.\n",
      "  _torch_pytree._register_pytree_node(\n",
      "c:\\Users\\kaush\\pyenv\\ml_env\\Lib\\site-packages\\transformers\\utils\\generic.py:309: FutureWarning: `torch.utils._pytree._register_pytree_node` is deprecated. Please use `torch.utils._pytree.register_pytree_node` instead.\n",
      "  _torch_pytree._register_pytree_node(\n",
      "c:\\Users\\kaush\\pyenv\\ml_env\\Lib\\site-packages\\timm\\models\\layers\\__init__.py:48: FutureWarning: Importing from timm.models.layers is deprecated, please import via timm.layers\n",
      "  warnings.warn(f\"Importing from {__name__} is deprecated, please import via timm.layers\", FutureWarning)\n"
     ]
    }
   ],
   "source": [
    "import util\n",
    "client = util.LLMClient(provider='gemini')"
   ]
  },
  {
   "cell_type": "code",
   "execution_count": 23,
   "id": "457d86c3",
   "metadata": {},
   "outputs": [
    {
     "name": "stdout",
     "output_type": "stream",
     "text": [
      "```python\n",
      "prompts = [\n",
      "    (\"Dark purple, large cytoplasmic granules obscuring the nucleus, often bilobed nucleus, rare cell type.\", \"Large, bright orange-red granules in cytoplasm, bilobed nucleus, larger than neutrophil.\", \"Large, round, darkly staining nucleus occupying most of the cell, scant cytoplasm, often a halo around the nucleus.\", \"Large cell with abundant gray-blue cytoplasm, kidney-shaped or horseshoe-shaped nucleus, often with vacuoles.\", \"Multi-lobed nucleus (typically 3-5 lobes), pale pink cytoplasm with fine granules, most abundant WBC.\"),\n",
      "    (\"Few, intensely basophilic granules, S-shaped nucleus sometimes visible, smallest granulocyte.\", \"Prominent, eosinophilic granules, nucleus usually bilobed, associated with parasitic infections and allergies.\", \"High nucleus-to-cytoplasm ratio, small round nucleus, often seen in viral infections.\", \"Irregularly shaped nucleus, often with a folded appearance, agranular cytoplasm.\", \"Segmented nucleus, abundant neutral granules, first responders to bacterial infections.\"),\n",
      "    (\"Dense, dark blue granules filling the cytoplasm, nucleus often obscured, associated with allergic reactions.\", \"Numerous, large, eosinophilic granules, bilobed nucleus, increased in asthma and hay fever.\", \"Small, densely stained nucleus, minimal cytoplasm, important in adaptive immunity.\", \"Large, amorphous cytoplasm, often with a 'ground glass' appearance, phagocytic.\", \"Numerous, fine lilac granules, segmented nucleus, crucial for acute inflammation.\"),\n",
      "    (\"Large, dark blue-purple granules, bilobed or S-shaped nucleus, involved in histamine release.\", \"Brightly staining, eosinophilic granules, bilobed nucleus, increased in drug reactions.\", \"Round or oval nucleus, often with a cleft, surrounded by a thin rim of cytoplasm.\", \"Large, irregular nucleus, abundant cytoplasm, differentiate into macrophages.\", \"Segmented nucleus with thin filaments connecting lobes, pale cytoplasm, primary defense against bacteria.\"),\n",
      "    (\"Granules stain metachromatically with thionin, nucleus often hidden by granules, rare in normal blood.\", \"Granules stain specifically with eosin, bilobed nucleus, involved in inflammation.\", \"Large nucleus with condensed chromatin, scant cytoplasm, T and B cell subtypes.\", \"Large, vacuolated cytoplasm, indented nucleus, precursor to macrophages.\", \"Segmented nucleus, granules stain neutrally, phagocytosis and killing of bacteria.\"),\n",
      "    (\"Dark blue granules, bilobed nucleus, associated with hypersensitivity reactions.\", \"Red-orange granules, bilobed nucleus, increased in parasitic infections.\", \"Large, round nucleus, minimal cytoplasm, involved in antibody production.\", \"Large, gray-blue cytoplasm, kidney-shaped nucleus, antigen-presenting cell.\", \"Segmented nucleus, pale pink cytoplasm, most common leukocyte.\"),\n",
      "    (\"Abundant dark purple granules, nucleus often obscured, involved in allergic inflammation.\", \"Large, bright pink granules, bilobed nucleus, associated with allergic diseases.\", \"Small, round nucleus, dense chromatin, important in immune response.\", \"Large, irregular nucleus, abundant cytoplasm, phagocytic activity.\", \"Multi-lobed nucleus, fine granules, first line of defense against infection.\"),\n",
      "    (\"Intense basophilic staining, bilobed nucleus, releases heparin and histamine.\", \"Eosinophilic staining, bilobed nucleus, releases enzymes to kill parasites.\", \"Large, round nucleus, scant cytoplasm, involved in cell-mediated immunity.\", \"Large, gray cytoplasm, indented nucleus, precursor to dendritic cells.\", \"Segmented nucleus, neutral granules, engulfs and destroys pathogens.\"),\n",
      "    (\"Dark staining granules, bilobed nucleus, involved in type I hypersensitivity.\", \"Brightly staining granules, bilobed nucleus, increased in skin conditions.\", \"Large, round nucleus, minimal cytoplasm, involved in humoral immunity.\", \"Large, irregular nucleus, abundant cytoplasm, involved in chronic inflammation.\", \"Segmented nucleus, pale cytoplasm, releases antimicrobial substances.\"),\n",
      "    (\"Granules stain with toluidine blue, bilobed nucleus, involved in inflammatory responses.\", \"Granules stain with eosin, bilobed nucleus, increased in asthma.\", \"Large, round nucleus, scant cytoplasm, involved in adaptive immunity.\", \"Large, gray-blue cytoplasm, kidney-shaped nucleus, involved in antigen presentation.\", \"Segmented nucleus, neutral granules, releases reactive oxygen species.\"),\n",
      "    (\"Dark purple granules, bilobed nucleus, releases inflammatory mediators.\", \"Orange-red granules, bilobed nucleus, increased in allergic reactions.\", \"Large, round nucleus, minimal cytoplasm, involved in immune surveillance.\", \"Large, irregular nucleus, abundant cytoplasm, involved in tissue repair.\", \"Segmented nucleus, pale pink cytoplasm, releases cytokines.\"),\n",
      "    (\"Few, large, dark purple granules, bilobed nucleus, rare in peripheral blood.\", \"Numerous, large, orange-red granules, bilobed nucleus, increased in parasitic infections.\", \"Large, round nucleus, scant cytoplasm, involved in adaptive immunity.\", \"Large, irregular nucleus, abundant cytoplasm, involved in phagocytosis.\", \"Segmented nucleus, neutral granules, releases proteolytic enzymes.\"),\n",
      "    (\"Dark blue granules, S-shaped nucleus, involved in allergic reactions.\", \"Brightly staining granules, bilobed nucleus, associated with asthma.\", \"Small, round nucleus, minimal cytoplasm, involved in immune response.\", \"Large, irregular nucleus, abundant cytoplasm, involved in inflammation.\", \"Segmented nucleus, pale cytoplasm, releases antimicrobial peptides.\"),\n",
      "    (\"Dense, dark purple granules, bilobed nucleus, releases histamine and heparin.\", \"Large, bright orange-red granules, bilobed nucleus, increased in eosinophilia.\", \"Large, round nucleus, scant cytoplasm, involved in cell-mediated immunity.\", \"Large, irregular nucleus, abundant cytoplasm, involved in antigen processing.\", \"Segmented nucleus, neutral granules, releases lysosomal enzymes.\"),\n",
      "    (\"Dark purple granules, bilobed nucleus, involved in anaphylaxis.\", \"Orange-red granules, bilobed nucleus, increased in drug hypersensitivity.\", \"Large, round nucleus, minimal cytoplasm, involved in antibody production.\", \"Large, irregular nucleus, abundant cytoplasm, involved in tissue remodeling.\", \"Segmented nucleus, pale cytoplasm, releases chemokines.\"),\n",
      "    (\"Granules stain intensely with basic dyes, bilobed nucleus, involved in inflammation.\", \"Granules stain with acidic dyes, bilobed nucleus, increased in allergic diseases.\", \"Large, round nucleus, scant cytoplasm, involved in immune regulation.\", \"Large, irregular nucleus, abundant cytoplasm, involved in wound healing.\", \"Segmented nucleus, neutral granules, releases growth factors.\"),\n",
      "    (\"Dark purple granules, bilobed nucleus, involved in mast cell activation.\", \"Brightly staining granules, bilobed nucleus, increased in parasitic infections.\", \"Large, round nucleus, minimal cytoplasm, involved in immune memory.\", \"Large, irregular nucleus, abundant cytoplasm, involved in immune suppression.\", \"Segmented nucleus, pale cytoplasm, releases inflammatory mediators.\"),\n",
      "    (\"Few, large, dark purple granules, bilobed nucleus, associated with myeloproliferative disorders.\", \"Numerous, large, orange-red granules, bilobed nucleus, increased in atopic dermatitis.\", \"Large, round nucleus, scant cytoplasm, involved in immune tolerance.\", \"Large, irregular nucleus, abundant cytoplasm, involved in tumor microenvironment.\", \"Segmented nucleus, neutral granules, releases reactive nitrogen species.\"),\n",
      "    (\"Dark purple granules, bilobed nucleus, involved in IgE-mediated reactions.\", \"Orange-red granules, bilobed nucleus, increased in eosinophilic esophagitis.\", \"Large, round nucleus, scant cytoplasm, involved in immune cell development.\", \"Large, irregular nucleus, abundant cytoplasm, involved in fibrosis.\", \"Segmented nucleus, pale cytoplasm, releases proteases.\"),\n",
      "    (\"Dark purple granules, bilobed nucleus, involved in allergic rhinitis.\", \"Orange-red granules, bilobed nucleus, increased in Churg-Strauss syndrome.\", \"Large, round nucleus, scant cytoplasm, involved in immune cell activation.\", \"Large, irregular nucleus, abundant cytoplasm, involved in granuloma formation.\", \"Segmented nucleus, neutral granules, releases defensins.\")\n",
      "]\n",
      "```\n"
     ]
    }
   ],
   "source": [
    "# Initial meta prompt for the first iteration\n",
    "meta_init_prompt = \"\"\"Give 20 distinct textual description sets of visual discriminative features to identify {task_specific_description}.\n",
    "Only provide the output as Python code in the following format: prompts = list[tuple[str, ...]]. Let's think step-by-step\"\"\"\n",
    "\n",
    "# Meta prompt template for subsequent iterations\n",
    "base_meta_prompt_template = \"\"\"The task is to generate distinct textual descriptions pairs of visual discriminative features to identify {task_specific_description}. \n",
    "Here are the best performing sets in ascending order. High scores indicate higher quality visual discriminative features.\n",
    "{content}\n",
    "Write {generate_n} new descriptions sets that are different from the old ones and has a score as high as possible, formulate a strategy.\n",
    "Only provide the output as Python code in the following format: prompts = list[tuple[str, ...]. Let's think step-by-step\n",
    "\"\"\"\n",
    "\n",
    "task_specific_description = \"\"\"Basophil, Eosinophil, Lymphocyte, Monocyte, and Neutrophil peripheral blood cells.\n",
    "Format: <Features describing Basophil>, <Features describing Eosinophil>, <Features describing Lymphocyte>, <Features describing Monocyte>, <Features describing Neutrophil> \n",
    "\"\"\"\n",
    "\n",
    "response = client.get_llm_response(meta_init_prompt.format(task_specific_description=task_specific_description))\n",
    "print(response)"
   ]
  }
 ],
 "metadata": {
  "kernelspec": {
   "display_name": "ml_env",
   "language": "python",
   "name": "python3"
  },
  "language_info": {
   "codemirror_mode": {
    "name": "ipython",
    "version": 3
   },
   "file_extension": ".py",
   "mimetype": "text/x-python",
   "name": "python",
   "nbconvert_exporter": "python",
   "pygments_lexer": "ipython3",
   "version": "3.11.9"
  }
 },
 "nbformat": 4,
 "nbformat_minor": 5
}
